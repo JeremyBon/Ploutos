{
 "cells": [
  {
   "cell_type": "code",
   "execution_count": 1,
   "metadata": {},
   "outputs": [
    {
     "name": "stdout",
     "output_type": "stream",
     "text": [
      "c:\\Users\\bonje\\Documents\\Perso\\ploutos\n"
     ]
    },
    {
     "name": "stderr",
     "output_type": "stream",
     "text": [
      "c:\\Users\\bonje\\AppData\\Local\\pypoetry\\Cache\\virtualenvs\\ploutos-wcQ0yzvx-py3.11\\Lib\\site-packages\\IPython\\core\\magics\\osm.py:417: UserWarning: using dhist requires you to install the `pickleshare` library.\n",
      "  self.shell.db['dhist'] = compress_dhist(dhist)[-100:]\n"
     ]
    }
   ],
   "source": [
    "cd c:\\Users\\bonje\\Documents\\Perso\\ploutos"
   ]
  },
  {
   "cell_type": "code",
   "execution_count": 2,
   "metadata": {},
   "outputs": [
    {
     "ename": "AttributeError",
     "evalue": "'ACCOUNT' object has no attribute '__pydantic_fields_set__'",
     "output_type": "error",
     "traceback": [
      "\u001b[1;31m---------------------------------------------------------------------------\u001b[0m",
      "\u001b[1;31mAttributeError\u001b[0m                            Traceback (most recent call last)",
      "Cell \u001b[1;32mIn[2], line 2\u001b[0m\n\u001b[0;32m      1\u001b[0m \u001b[38;5;28;01mfrom\u001b[39;00m \u001b[38;5;21;01mploutos\u001b[39;00m\u001b[38;5;21;01m.\u001b[39;00m\u001b[38;5;21;01mapi\u001b[39;00m\u001b[38;5;21;01m.\u001b[39;00m\u001b[38;5;21;01mbank_api\u001b[39;00m \u001b[38;5;28;01mimport\u001b[39;00m ACCOUNT\n\u001b[1;32m----> 2\u001b[0m revolut\u001b[38;5;241m=\u001b[39m\u001b[43mACCOUNT\u001b[49m\u001b[43m(\u001b[49m\u001b[43mbank\u001b[49m\u001b[38;5;241;43m=\u001b[39;49m\u001b[38;5;124;43m\"\u001b[39;49m\u001b[38;5;124;43mREVOLUT\u001b[39;49m\u001b[38;5;124;43m\"\u001b[39;49m\u001b[43m)\u001b[49m\n",
      "File \u001b[1;32mc:\\Users\\bonje\\Documents\\Perso\\ploutos\\ploutos\\api\\bank_api.py:36\u001b[0m, in \u001b[0;36mACCOUNT.__init__\u001b[1;34m(self, bank)\u001b[0m\n\u001b[0;32m     33\u001b[0m \u001b[38;5;28;01melif\u001b[39;00m bank \u001b[38;5;241m==\u001b[39m BANK\u001b[38;5;241m.\u001b[39mLCL\u001b[38;5;241m.\u001b[39mvalue:\n\u001b[0;32m     34\u001b[0m     account_id \u001b[38;5;241m=\u001b[39m os\u001b[38;5;241m.\u001b[39mgetenv(\u001b[38;5;124m\"\u001b[39m\u001b[38;5;124mLCL_ACCOUNT_ID\u001b[39m\u001b[38;5;124m\"\u001b[39m)\n\u001b[1;32m---> 36\u001b[0m \u001b[38;5;28;43mself\u001b[39;49m\u001b[38;5;241;43m.\u001b[39;49m\u001b[43maccount\u001b[49m \u001b[38;5;241m=\u001b[39m client\u001b[38;5;241m.\u001b[39maccount_api(\u001b[38;5;28mid\u001b[39m\u001b[38;5;241m=\u001b[39maccount_id)\n",
      "File \u001b[1;32mc:\\Users\\bonje\\AppData\\Local\\pypoetry\\Cache\\virtualenvs\\ploutos-wcQ0yzvx-py3.11\\Lib\\site-packages\\pydantic\\main.py:899\u001b[0m, in \u001b[0;36mBaseModel.__setattr__\u001b[1;34m(self, name, value)\u001b[0m\n\u001b[0;32m    897\u001b[0m \u001b[38;5;28;01melse\u001b[39;00m:\n\u001b[0;32m    898\u001b[0m     \u001b[38;5;28mself\u001b[39m\u001b[38;5;241m.\u001b[39m\u001b[38;5;18m__dict__\u001b[39m[name] \u001b[38;5;241m=\u001b[39m value\n\u001b[1;32m--> 899\u001b[0m     \u001b[38;5;28;43mself\u001b[39;49m\u001b[38;5;241;43m.\u001b[39;49m\u001b[43m__pydantic_fields_set__\u001b[49m\u001b[38;5;241m.\u001b[39madd(name)\n",
      "File \u001b[1;32mc:\\Users\\bonje\\AppData\\Local\\pypoetry\\Cache\\virtualenvs\\ploutos-wcQ0yzvx-py3.11\\Lib\\site-packages\\pydantic\\main.py:853\u001b[0m, in \u001b[0;36mBaseModel.__getattr__\u001b[1;34m(self, item)\u001b[0m\n\u001b[0;32m    851\u001b[0m \u001b[38;5;28;01melse\u001b[39;00m:\n\u001b[0;32m    852\u001b[0m     \u001b[38;5;28;01mif\u001b[39;00m \u001b[38;5;28mhasattr\u001b[39m(\u001b[38;5;28mself\u001b[39m\u001b[38;5;241m.\u001b[39m\u001b[38;5;18m__class__\u001b[39m, item):\n\u001b[1;32m--> 853\u001b[0m         \u001b[38;5;28;01mreturn\u001b[39;00m \u001b[38;5;28;43msuper\u001b[39;49m\u001b[43m(\u001b[49m\u001b[43m)\u001b[49m\u001b[38;5;241;43m.\u001b[39;49m\u001b[38;5;21;43m__getattribute__\u001b[39;49m\u001b[43m(\u001b[49m\u001b[43mitem\u001b[49m\u001b[43m)\u001b[49m  \u001b[38;5;66;03m# Raises AttributeError if appropriate\u001b[39;00m\n\u001b[0;32m    854\u001b[0m     \u001b[38;5;28;01melse\u001b[39;00m:\n\u001b[0;32m    855\u001b[0m         \u001b[38;5;66;03m# this is the current error\u001b[39;00m\n\u001b[0;32m    856\u001b[0m         \u001b[38;5;28;01mraise\u001b[39;00m \u001b[38;5;167;01mAttributeError\u001b[39;00m(\u001b[38;5;124mf\u001b[39m\u001b[38;5;124m'\u001b[39m\u001b[38;5;132;01m{\u001b[39;00m\u001b[38;5;28mtype\u001b[39m(\u001b[38;5;28mself\u001b[39m)\u001b[38;5;241m.\u001b[39m\u001b[38;5;18m__name__\u001b[39m\u001b[38;5;132;01m!r}\u001b[39;00m\u001b[38;5;124m object has no attribute \u001b[39m\u001b[38;5;132;01m{\u001b[39;00mitem\u001b[38;5;132;01m!r}\u001b[39;00m\u001b[38;5;124m'\u001b[39m)\n",
      "\u001b[1;31mAttributeError\u001b[0m: 'ACCOUNT' object has no attribute '__pydantic_fields_set__'"
     ]
    }
   ],
   "source": [
    "from ploutos.api.bank_api import ACCOUNT\n",
    "revolut=ACCOUNT(bank=\"REVOLUT\")\n",
    "\n"
   ]
  },
  {
   "cell_type": "markdown",
   "metadata": {},
   "source": [
    "https://github.com/nordigen/nordigen-python"
   ]
  },
  {
   "cell_type": "code",
   "execution_count": 20,
   "metadata": {},
   "outputs": [],
   "source": [
    "from nordigen import NordigenClient\n",
    "import os\n",
    "client = NordigenClient(\n",
    "    secret_id=os.getenv(\"NORDIGEN_SECRET_ID\"),\n",
    "    secret_key=os.getenv(\"NORDIGEN_SECRET_KEY\")\n",
    ")\n",
    "token_data = client.generate_token()\n",
    "rev=client.account_api(id=os.getenv(\"REVOLUT_ACCOUNT_ID\"))\n"
   ]
  },
  {
   "cell_type": "code",
   "execution_count": null,
   "metadata": {},
   "outputs": [],
   "source": [
    "from nordigen import NordigenClient\n",
    "import os\n",
    "client = NordigenClient(\n",
    "    secret_id=os.getenv(\"NORDIGEN_SECRET_ID\"),\n",
    "    secret_key=os.getenv(\"NORDIGEN_SECRET_KEY\")\n",
    ")\n",
    "token_data = client.generate_token()\n",
    "account=client.account_api(id=\"1bdb6174-5522-44d5-a67e-28d50123966f\")\n",
    "account.get_metadata()\n"
   ]
  },
  {
   "cell_type": "code",
   "execution_count": null,
   "metadata": {},
   "outputs": [],
   "source": [
    "rev.get_metadata()\n"
   ]
  },
  {
   "cell_type": "code",
   "execution_count": 8,
   "metadata": {},
   "outputs": [],
   "source": [
    "from nordigen import NordigenClient\n",
    "import warnings\n",
    "from uuid import uuid4\n",
    "import webbrowser\n",
    "\n",
    "from dotenv import load_dotenv,set_key\n",
    "\n",
    "warnings.filterwarnings('ignore')\n",
    "import os\n",
    "import pandas as pd\n",
    "\n",
    "token_data = client.generate_token()\n",
    "init = client.initialize_session(\n",
    "    # institution id\n",
    "    institution_id=os.getenv(\"REVOLUT_BANK_ID\"),\n",
    "    # redirect url after successful authentication\n",
    "    redirect_uri=\"https://gocardless.com\",\n",
    "    # additional layer of unique ID defined by you\n",
    "    reference_id=str(uuid4())\n",
    ")\n",
    "requisition_id = init.requisition_id\n",
    "\n",
    "accounts = client.requisition.get_requisition_by_id(\n",
    "    requisition_id=init.requisition_id\n",
    ")\n"
   ]
  },
  {
   "cell_type": "code",
   "execution_count": null,
   "metadata": {},
   "outputs": [],
   "source": [
    "client.requisition.get_requisition_by_id(\n",
    "            requisition_id=requisition_id\n",
    "        )[\"accounts\"]"
   ]
  },
  {
   "cell_type": "code",
   "execution_count": 10,
   "metadata": {},
   "outputs": [],
   "source": [
    "accounts = client.requisition.get_requisition_by_id(\n",
    "    requisition_id=init.requisition_id\n",
    ")"
   ]
  },
  {
   "cell_type": "code",
   "execution_count": null,
   "metadata": {},
   "outputs": [],
   "source": [
    "accounts"
   ]
  },
  {
   "cell_type": "code",
   "execution_count": null,
   "metadata": {},
   "outputs": [],
   "source": [
    "from dotenv import load_dotenv\n",
    "load_dotenv()\n"
   ]
  },
  {
   "cell_type": "code",
   "execution_count": null,
   "metadata": {},
   "outputs": [],
   "source": [
    "os.environ[\"REVOLUT_ACCOUNT_ID\"]\n"
   ]
  },
  {
   "cell_type": "code",
   "execution_count": null,
   "metadata": {},
   "outputs": [],
   "source": [
    "def add_env_variable(key, value):\n",
    "    dotenv_file = os.path.join(os.getcwd(), '.env')\n",
    "    print(dotenv_file)\n",
    "    set_key(dotenv_file, key, value)\n",
    "    os.environ[key] = value\n",
    "def create_account_id():\n",
    "    init = client.initialize_session(\n",
    "    # institution id\n",
    "    institution_id=REVOLUT_BANK_ID,\n",
    "    # redirect url after successful authentication\n",
    "    redirect_uri=\"https://gocardless.com\",\n",
    "    # additional layer of unique ID defined by you\n",
    "    reference_id=str(uuid4())\n",
    "    )\n",
    "    requisition_id = init.requisition_id\n",
    "\n",
    "    accounts = client.requisition.get_requisition_by_id(\n",
    "        requisition_id=init.requisition_id\n",
    "    )\n",
    "\n",
    "    link = accounts[\"link\"]\n",
    "    webbrowser.open(link)\n",
    "\n",
    "    \n",
    "    # Save account_id to .env file\n",
    "    # Read existing .env file\n",
    "    env_lines = []\n",
    "    account_id_exists = False\n",
    "    try:\n",
    "        add_env_variable(\"REVOLUT_ACCOUNT_ID\",account_id)\n",
    "    except FileNotFoundError:\n",
    "        print(\"File not found\")\n",
    "    return 1\n",
    "create_account_id()"
   ]
  },
  {
   "cell_type": "code",
   "execution_count": null,
   "metadata": {},
   "outputs": [],
   "source": [
    "account = client.account_api(id=\"f47d8c6f-6bca-41ae-9469-b4f88ecb2e61\")\n",
    "print(account.get_metadata())"
   ]
  },
  {
   "cell_type": "code",
   "execution_count": null,
   "metadata": {},
   "outputs": [],
   "source": [
    "def account():\n",
    "    client = NordigenClient(\n",
    "    secret_id=NORDIGEN_SECRET_ID,\n",
    "    secret_key=NORDIGEN_SECRET_KEY\n",
    ")\n",
    "    account_id = os.getenv(\"ACCOUNT_ID\")\n",
    "    account = client.account_api(id=\"7750a6eb-fa2b-4679-a8c8-0c13eb7f440e\")\n",
    "    print(account.get_metadata())\n",
    "    return account\n",
    "a=account()"
   ]
  },
  {
   "cell_type": "code",
   "execution_count": null,
   "metadata": {},
   "outputs": [],
   "source": [
    "a.get_metadata()"
   ]
  },
  {
   "cell_type": "code",
   "execution_count": null,
   "metadata": {},
   "outputs": [],
   "source": [
    "a"
   ]
  },
  {
   "cell_type": "code",
   "execution_count": null,
   "metadata": {},
   "outputs": [],
   "source": [
    "\n",
    "print(accounts)# Get account id from the list.\n",
    "account_id = accounts[\"accounts\"][0]\n",
    "\n",
    "# Create account instance and provide your account id from previous step\n",
    "account = client.account_api(id=account_id)\n",
    "\n",
    "# Fetch account metadata\n",
    "meta_data = account.get_metadata()\n",
    "# Fetch details\n",
    "details = account.get_details()\n",
    "# Fetch balances\n",
    "balances = account.get_balances()\n",
    "# Fetch transactions\n",
    "transactions = account.get_transactions()\n",
    "# Filter transactions by specific date range\n",
    "transactions = account.get_transactions(date_from=\"2021-12-01\", date_to=\"2024-12-08\")\n"
   ]
  },
  {
   "cell_type": "code",
   "execution_count": null,
   "metadata": {},
   "outputs": [],
   "source": [
    "len(transactions)\n"
   ]
  },
  {
   "cell_type": "code",
   "execution_count": null,
   "metadata": {},
   "outputs": [],
   "source": []
  }
 ],
 "metadata": {
  "kernelspec": {
   "display_name": "ploutos-wcQ0yzvx-py3.11",
   "language": "python",
   "name": "python3"
  },
  "language_info": {
   "codemirror_mode": {
    "name": "ipython",
    "version": 3
   },
   "file_extension": ".py",
   "mimetype": "text/x-python",
   "name": "python",
   "nbconvert_exporter": "python",
   "pygments_lexer": "ipython3",
   "version": "3.11.5"
  }
 },
 "nbformat": 4,
 "nbformat_minor": 2
}
