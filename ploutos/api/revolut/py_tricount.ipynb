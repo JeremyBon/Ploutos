{
 "cells": [
  {
   "cell_type": "markdown",
   "metadata": {},
   "source": [
    "On a suivi avec l'aide de [Chatgt](chat.com) le git suivant : [TicountApi](https://github.com/mlaily/TricountApi/blob/master/Tricount.ipynb).\n",
    "\n",
    "A l'aide de tricount.ipynb, on récupère la public key. \n",
    "\n",
    "Malheureusement, le lien api n'est pas à jour et il n'y a aucune autre source ."
   ]
  },
  {
   "cell_type": "code",
   "execution_count": 1,
   "metadata": {
    "dotnet_interactive": {
     "language": "csharp"
    },
    "polyglot_notebook": {
     "kernelName": "csharp"
    }
   },
   "outputs": [
    {
     "name": "stdout",
     "output_type": "stream",
     "text": [
      "c1cbddb4-9eb3-42be-99b5-b14a613291d5\n"
     ]
    }
   ],
   "source": [
    "import requests\n",
    "import json\n",
    "import uuid\n",
    "print(\"app_installation_uuid\")\n",
    "print(uuid.uuid4())\n",
    "\n",
    "url = \"https://api.tricount.bunq.com/v1/session-registry-installation\"\n",
    "\n",
    "payload = json.dumps({\n",
    "  \"app_installation_uuid\": \"c1cbddb4-9eb3-42be-99b5-b14a613291d5\",\n",
    "  \"client_public_key\": \"-----BEGIN RSA PUBLIC KEY-----\\nMIIBCgKCAQEAqMlaQA5SRjFGj4TeHF78ytU0XsIrhecznyRltwzF/q/DKBktMQYD\\nU00QR7Ldl5lefSp+qevv+pYLPKiOZJkH1uVokbUxoAnwc67nB6hAuNlKj/mh+h6t\\nZ4rrNl5It8E/nZgGhNH+s7JYGQDAW6DI7d43r1e4K2blxEca8VKJjRnsWOarjZIM\\n1IT5Ra3JhAFBXcceCSY9iVfiKz0uIvbu7MB1+EKJRqacSWY6/4ucnBTWkJvueuga\\n8S421myqFBs7DUz5PYNgDpxIs6vwdm08wR7qSeRQdUZ+jjJzIoPVvJnHgs1zjk08\\nsAt6g3H4rCu7CmuUSSMvJR9wTCESbueLUQIDAQAB\\n-----END RSA PUBLIC KEY-----\",\n",
    "  \"device_description\": \"Android\"\n",
    "})\n",
    "headers = {\n",
    "  'User-Agent': '\"com.bunq.tricount.android:RELEASE:7.0.7:3174:ANDROID:13:C\"',\n",
    "  'app-id': '\"c1cbddb4-9eb3-42be-99b5-b14a613291d5\"',\n",
    "  'X-Bunq-Client-Request-Id': '\"049bfcdf-6ae4-4cee-af7b-45da31ea85d0\"',\n",
    "  'Content-Type': 'application/json'\n",
    "}\n",
    "\n",
    "response = requests.request(\"POST\", url, headers=headers, data=payload)\n",
    "\n",
    "print(response.text)\n"
   ]
  },
  {
   "cell_type": "code",
   "execution_count": null,
   "metadata": {},
   "outputs": [],
   "source": []
  }
 ],
 "metadata": {
  "kernelspec": {
   "display_name": "ploutos-wcQ0yzvx-py3.11",
   "language": "python",
   "name": "python3"
  },
  "language_info": {
   "codemirror_mode": {
    "name": "ipython",
    "version": 3
   },
   "file_extension": ".py",
   "mimetype": "text/x-python",
   "name": "python",
   "nbconvert_exporter": "python",
   "pygments_lexer": "ipython3",
   "version": "3.11.5"
  },
  "polyglot_notebook": {
   "kernelInfo": {
    "defaultKernelName": "csharp",
    "items": [
     {
      "aliases": [],
      "name": "csharp"
     }
    ]
   }
  }
 },
 "nbformat": 4,
 "nbformat_minor": 2
}
