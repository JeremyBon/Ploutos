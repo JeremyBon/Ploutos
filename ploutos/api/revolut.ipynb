{
 "cells": [
  {
   "cell_type": "code",
   "execution_count": 2,
   "metadata": {},
   "outputs": [
    {
     "name": "stdout",
     "output_type": "stream",
     "text": [
      "c:\\Users\\bonje\\Documents\\Perso\\ploutos\n"
     ]
    },
    {
     "name": "stderr",
     "output_type": "stream",
     "text": [
      "c:\\Users\\bonje\\AppData\\Local\\pypoetry\\Cache\\virtualenvs\\ploutos-wcQ0yzvx-py3.11\\Lib\\site-packages\\IPython\\core\\magics\\osm.py:417: UserWarning: using dhist requires you to install the `pickleshare` library.\n",
      "  self.shell.db['dhist'] = compress_dhist(dhist)[-100:]\n"
     ]
    }
   ],
   "source": [
    "cd c:\\Users\\bonje\\Documents\\Perso\\ploutos"
   ]
  },
  {
   "cell_type": "markdown",
   "metadata": {},
   "source": [
    "https://github.com/nordigen/nordigen-python"
   ]
  },
  {
   "cell_type": "code",
   "execution_count": 5,
   "metadata": {},
   "outputs": [],
   "source": [
    "from nordigen import NordigenClient\n",
    "import os\n",
    "client = NordigenClient(\n",
    "    secret_id=os.getenv(\"NORDIGEN_SECRET_ID\"),\n",
    "    secret_key=os.getenv(\"NORDIGEN_SECRET_KEY\")\n",
    ")\n",
    "token_data = client.generate_token()\n",
    "rev=client.account_api(id=os.getenv(\"REVOLUT_ACCOUNT_ID\"))\n"
   ]
  },
  {
   "cell_type": "code",
   "execution_count": 14,
   "metadata": {},
   "outputs": [
    {
     "data": {
      "text/plain": [
       "{'id': '1bdb6174-5522-44d5-a67e-28d50123966f',\n",
       " 'created': '2024-06-16T16:54:38.946472Z',\n",
       " 'last_accessed': '2024-12-15T00:03:08.684127Z',\n",
       " 'iban': 'FR2930002010170000082489B97',\n",
       " 'institution_id': 'LCL_CRLYFRPP',\n",
       " 'status': 'READY',\n",
       " 'owner_name': '',\n",
       " 'bban': None}"
      ]
     },
     "execution_count": 14,
     "metadata": {},
     "output_type": "execute_result"
    }
   ],
   "source": [
    "from nordigen import NordigenClient\n",
    "import os\n",
    "client = NordigenClient(\n",
    "    secret_id=os.getenv(\"NORDIGEN_SECRET_ID\"),\n",
    "    secret_key=os.getenv(\"NORDIGEN_SECRET_KEY\")\n",
    ")\n",
    "token_data = client.generate_token()\n",
    "\n",
    "account=client.account_api(id=\"1bdb6174-5522-44d5-a67e-28d50123966f\")\n",
    "account.get_metadata()\n"
   ]
  },
  {
   "cell_type": "code",
   "execution_count": 8,
   "metadata": {},
   "outputs": [
    {
     "ename": "HTTPError",
     "evalue": "{'response': {'summary': 'Account not found', 'detail': 'Account not found', 'status_code': 404}, 'status': 404}",
     "output_type": "error",
     "traceback": [
      "\u001b[1;31m---------------------------------------------------------------------------\u001b[0m",
      "\u001b[1;31mHTTPError\u001b[0m                                 Traceback (most recent call last)",
      "Cell \u001b[1;32mIn[8], line 2\u001b[0m\n\u001b[0;32m      1\u001b[0m fort\u001b[38;5;241m=\u001b[39mclient\u001b[38;5;241m.\u001b[39maccount_api(\u001b[38;5;28mid\u001b[39m\u001b[38;5;241m=\u001b[39m\u001b[38;5;124m\"\u001b[39m\u001b[38;5;124m559898fd-5fc4-4c46-bb8d-8af30cda05d6\u001b[39m\u001b[38;5;124m\"\u001b[39m)\n\u001b[1;32m----> 2\u001b[0m \u001b[43mfort\u001b[49m\u001b[38;5;241;43m.\u001b[39;49m\u001b[43mget_metadata\u001b[49m\u001b[43m(\u001b[49m\u001b[43m)\u001b[49m\n",
      "File \u001b[1;32mc:\\Users\\bonje\\AppData\\Local\\pypoetry\\Cache\\virtualenvs\\ploutos-wcQ0yzvx-py3.11\\Lib\\site-packages\\nordigen\\api\\accounts.py:68\u001b[0m, in \u001b[0;36mAccountApi.get_metadata\u001b[1;34m(self)\u001b[0m\n\u001b[0;32m     59\u001b[0m \u001b[38;5;28;01mdef\u001b[39;00m \u001b[38;5;21mget_metadata\u001b[39m(\u001b[38;5;28mself\u001b[39m) \u001b[38;5;241m-\u001b[39m\u001b[38;5;241m>\u001b[39m \u001b[38;5;28mdict\u001b[39m:\n\u001b[0;32m     60\u001b[0m \u001b[38;5;250m    \u001b[39m\u001b[38;5;124;03m\"\"\"\u001b[39;00m\n\u001b[0;32m     61\u001b[0m \u001b[38;5;124;03m    Access account metadata.\u001b[39;00m\n\u001b[0;32m     62\u001b[0m \u001b[38;5;124;03m    Information about the account record, such as the processing status and IBAN.\u001b[39;00m\n\u001b[1;32m   (...)\u001b[0m\n\u001b[0;32m     66\u001b[0m \u001b[38;5;124;03m        AccountData: account metadata\u001b[39;00m\n\u001b[0;32m     67\u001b[0m \u001b[38;5;124;03m    \"\"\"\u001b[39;00m\n\u001b[1;32m---> 68\u001b[0m     \u001b[38;5;28;01mreturn\u001b[39;00m \u001b[38;5;28;43mself\u001b[39;49m\u001b[38;5;241;43m.\u001b[39;49m\u001b[43m__request\u001b[49m\u001b[43m(\u001b[49m\n\u001b[0;32m     69\u001b[0m \u001b[43m        \u001b[49m\u001b[43mHTTPMethod\u001b[49m\u001b[38;5;241;43m.\u001b[39;49m\u001b[43mGET\u001b[49m\u001b[43m,\u001b[49m\u001b[43m \u001b[49m\u001b[38;5;124;43mf\u001b[39;49m\u001b[38;5;124;43m\"\u001b[39;49m\u001b[38;5;132;43;01m{\u001b[39;49;00m\u001b[38;5;28;43mself\u001b[39;49m\u001b[38;5;241;43m.\u001b[39;49m\u001b[43m__ENDPOINT\u001b[49m\u001b[38;5;132;43;01m}\u001b[39;49;00m\u001b[38;5;124;43m/\u001b[39;49m\u001b[38;5;132;43;01m{\u001b[39;49;00m\u001b[38;5;28;43mself\u001b[39;49m\u001b[38;5;241;43m.\u001b[39;49m\u001b[43m__id\u001b[49m\u001b[38;5;132;43;01m}\u001b[39;49;00m\u001b[38;5;124;43m/\u001b[39;49m\u001b[38;5;124;43m\"\u001b[39;49m\n\u001b[0;32m     70\u001b[0m \u001b[43m    \u001b[49m\u001b[43m)\u001b[49m\n",
      "File \u001b[1;32mc:\\Users\\bonje\\AppData\\Local\\pypoetry\\Cache\\virtualenvs\\ploutos-wcQ0yzvx-py3.11\\Lib\\site-packages\\nordigen\\nordigen.py:168\u001b[0m, in \u001b[0;36mNordigenClient.request\u001b[1;34m(self, method, endpoint, data, headers)\u001b[0m\n\u001b[0;32m    165\u001b[0m \u001b[38;5;28;01mif\u001b[39;00m response\u001b[38;5;241m.\u001b[39mok:\n\u001b[0;32m    166\u001b[0m     \u001b[38;5;28;01mreturn\u001b[39;00m response\u001b[38;5;241m.\u001b[39mjson()\n\u001b[1;32m--> 168\u001b[0m \u001b[38;5;28;01mraise\u001b[39;00m HTTPError(\n\u001b[0;32m    169\u001b[0m     {\u001b[38;5;124m\"\u001b[39m\u001b[38;5;124mresponse\u001b[39m\u001b[38;5;124m\"\u001b[39m: response\u001b[38;5;241m.\u001b[39mjson(), \u001b[38;5;124m\"\u001b[39m\u001b[38;5;124mstatus\u001b[39m\u001b[38;5;124m\"\u001b[39m: response\u001b[38;5;241m.\u001b[39mstatus_code}, response\u001b[38;5;241m=\u001b[39mresponse\n\u001b[0;32m    170\u001b[0m )\n",
      "\u001b[1;31mHTTPError\u001b[0m: {'response': {'summary': 'Account not found', 'detail': 'Account not found', 'status_code': 404}, 'status': 404}"
     ]
    }
   ],
   "source": [
    "fort=client.account_api(id=\"559898fd-5fc4-4c46-bb8d-8af30cda05d6\")\n",
    "fort.get_metadata()\n"
   ]
  },
  {
   "cell_type": "code",
   "execution_count": 19,
   "metadata": {},
   "outputs": [
    {
     "ename": "HTTPError",
     "evalue": "{'response': {'summary': 'No Requisition matches the given query.', 'detail': 'No Requisition matches the given query.', 'status_code': 404}, 'status': 404}",
     "output_type": "error",
     "traceback": [
      "\u001b[1;31m---------------------------------------------------------------------------\u001b[0m",
      "\u001b[1;31mHTTPError\u001b[0m                                 Traceback (most recent call last)",
      "Cell \u001b[1;32mIn[19], line 23\u001b[0m\n\u001b[0;32m     21\u001b[0m requisition_id \u001b[38;5;241m=\u001b[39m init\u001b[38;5;241m.\u001b[39mrequisition_id\n\u001b[0;32m     22\u001b[0m requisition_id\n\u001b[1;32m---> 23\u001b[0m accounts \u001b[38;5;241m=\u001b[39m \u001b[43mclient\u001b[49m\u001b[38;5;241;43m.\u001b[39;49m\u001b[43mrequisition\u001b[49m\u001b[38;5;241;43m.\u001b[39;49m\u001b[43mget_requisition_by_id\u001b[49m\u001b[43m(\u001b[49m\n\u001b[0;32m     24\u001b[0m \u001b[43m    \u001b[49m\u001b[43mrequisition_id\u001b[49m\u001b[38;5;241;43m=\u001b[39;49m\u001b[38;5;124;43m\"\u001b[39;49m\u001b[38;5;124;43m1bdb6174-5522-44d5-a67e-28d50123966f\u001b[39;49m\u001b[38;5;124;43m\"\u001b[39;49m\n\u001b[0;32m     25\u001b[0m \u001b[43m)\u001b[49m\n\u001b[0;32m     26\u001b[0m \u001b[38;5;28mprint\u001b[39m(accounts[\u001b[38;5;124m'\u001b[39m\u001b[38;5;124mlink\u001b[39m\u001b[38;5;124m'\u001b[39m])\n",
      "File \u001b[1;32mc:\\Users\\bonje\\AppData\\Local\\pypoetry\\Cache\\virtualenvs\\ploutos-wcQ0yzvx-py3.11\\Lib\\site-packages\\nordigen\\api\\requisitions.py:97\u001b[0m, in \u001b[0;36mRequisitionsApi.get_requisition_by_id\u001b[1;34m(self, requisition_id)\u001b[0m\n\u001b[0;32m     88\u001b[0m \u001b[38;5;28;01mdef\u001b[39;00m \u001b[38;5;21mget_requisition_by_id\u001b[39m(\u001b[38;5;28mself\u001b[39m, requisition_id: \u001b[38;5;28mstr\u001b[39m) \u001b[38;5;241m-\u001b[39m\u001b[38;5;241m>\u001b[39m Requisition:\n\u001b[0;32m     89\u001b[0m \u001b[38;5;250m    \u001b[39m\u001b[38;5;124;03m\"\"\"\u001b[39;00m\n\u001b[0;32m     90\u001b[0m \u001b[38;5;124;03m    Get list of requisitions.\u001b[39;00m\n\u001b[0;32m     91\u001b[0m \n\u001b[1;32m   (...)\u001b[0m\n\u001b[0;32m     95\u001b[0m \u001b[38;5;124;03m        Requisition: account details\u001b[39;00m\n\u001b[0;32m     96\u001b[0m \u001b[38;5;124;03m    \"\"\"\u001b[39;00m\n\u001b[1;32m---> 97\u001b[0m     \u001b[38;5;28;01mreturn\u001b[39;00m \u001b[38;5;28;43mself\u001b[39;49m\u001b[38;5;241;43m.\u001b[39;49m\u001b[43m__client\u001b[49m\u001b[38;5;241;43m.\u001b[39;49m\u001b[43mrequest\u001b[49m\u001b[43m(\u001b[49m\n\u001b[0;32m     98\u001b[0m \u001b[43m        \u001b[49m\u001b[43mHTTPMethod\u001b[49m\u001b[38;5;241;43m.\u001b[39;49m\u001b[43mGET\u001b[49m\u001b[43m,\u001b[49m\u001b[43m \u001b[49m\u001b[38;5;124;43mf\u001b[39;49m\u001b[38;5;124;43m\"\u001b[39;49m\u001b[38;5;132;43;01m{\u001b[39;49;00m\u001b[38;5;28;43mself\u001b[39;49m\u001b[38;5;241;43m.\u001b[39;49m\u001b[43mENDPOINT\u001b[49m\u001b[38;5;132;43;01m}\u001b[39;49;00m\u001b[38;5;124;43m/\u001b[39;49m\u001b[38;5;132;43;01m{\u001b[39;49;00m\u001b[43mrequisition_id\u001b[49m\u001b[38;5;132;43;01m}\u001b[39;49;00m\u001b[38;5;124;43m/\u001b[39;49m\u001b[38;5;124;43m\"\u001b[39;49m\n\u001b[0;32m     99\u001b[0m \u001b[43m    \u001b[49m\u001b[43m)\u001b[49m\n",
      "File \u001b[1;32mc:\\Users\\bonje\\AppData\\Local\\pypoetry\\Cache\\virtualenvs\\ploutos-wcQ0yzvx-py3.11\\Lib\\site-packages\\nordigen\\nordigen.py:168\u001b[0m, in \u001b[0;36mNordigenClient.request\u001b[1;34m(self, method, endpoint, data, headers)\u001b[0m\n\u001b[0;32m    165\u001b[0m \u001b[38;5;28;01mif\u001b[39;00m response\u001b[38;5;241m.\u001b[39mok:\n\u001b[0;32m    166\u001b[0m     \u001b[38;5;28;01mreturn\u001b[39;00m response\u001b[38;5;241m.\u001b[39mjson()\n\u001b[1;32m--> 168\u001b[0m \u001b[38;5;28;01mraise\u001b[39;00m HTTPError(\n\u001b[0;32m    169\u001b[0m     {\u001b[38;5;124m\"\u001b[39m\u001b[38;5;124mresponse\u001b[39m\u001b[38;5;124m\"\u001b[39m: response\u001b[38;5;241m.\u001b[39mjson(), \u001b[38;5;124m\"\u001b[39m\u001b[38;5;124mstatus\u001b[39m\u001b[38;5;124m\"\u001b[39m: response\u001b[38;5;241m.\u001b[39mstatus_code}, response\u001b[38;5;241m=\u001b[39mresponse\n\u001b[0;32m    170\u001b[0m )\n",
      "\u001b[1;31mHTTPError\u001b[0m: {'response': {'summary': 'No Requisition matches the given query.', 'detail': 'No Requisition matches the given query.', 'status_code': 404}, 'status': 404}"
     ]
    }
   ],
   "source": [
    "from nordigen import NordigenClient\n",
    "import warnings\n",
    "from uuid import uuid4\n",
    "import webbrowser\n",
    "\n",
    "from dotenv import load_dotenv,set_key\n",
    "\n",
    "warnings.filterwarnings('ignore')\n",
    "import os\n",
    "import pandas as pd\n",
    "\n",
    "token_data = client.generate_token()\n",
    "init = client.initialize_session(\n",
    "    # institution id\n",
    "    institution_id=os.getenv(\"LCL_BANK_ID\"),\n",
    "    # redirect url after successful authentication\n",
    "    redirect_uri=\"https://gocardless.com\",\n",
    "    # additional layer of unique ID defined by you\n",
    "    reference_id=str(uuid4())\n",
    ")\n",
    "requisition_id = init.requisition_id\n",
    "requisition_id\n",
    "accounts = client.requisition.get_requisition_by_id(\n",
    "    requisition_id=\"1bdb6174-5522-44d5-a67e-28d50123966f\"\n",
    ")\n",
    "print(accounts['link'])\n"
   ]
  },
  {
   "cell_type": "code",
   "execution_count": 18,
   "metadata": {},
   "outputs": [
    {
     "data": {
      "text/plain": [
       "'63afa4f0-9423-4a3c-bd8f-c89e25394e54'"
      ]
     },
     "execution_count": 18,
     "metadata": {},
     "output_type": "execute_result"
    }
   ],
   "source": [
    "requisition_id\n"
   ]
  },
  {
   "cell_type": "code",
   "execution_count": 13,
   "metadata": {},
   "outputs": [
    {
     "data": {
      "text/plain": [
       "[]"
      ]
     },
     "execution_count": 13,
     "metadata": {},
     "output_type": "execute_result"
    }
   ],
   "source": [
    "client.requisition.get_requisition_by_id(\n",
    "            requisition_id=requisition_id\n",
    "        )[\"accounts\"]"
   ]
  },
  {
   "cell_type": "code",
   "execution_count": 10,
   "metadata": {},
   "outputs": [],
   "source": [
    "accounts = client.requisition.get_requisition_by_id(\n",
    "    requisition_id=init.requisition_id\n",
    ")"
   ]
  },
  {
   "cell_type": "code",
   "execution_count": null,
   "metadata": {},
   "outputs": [],
   "source": [
    "accounts"
   ]
  },
  {
   "cell_type": "code",
   "execution_count": null,
   "metadata": {},
   "outputs": [],
   "source": [
    "from dotenv import load_dotenv\n",
    "load_dotenv()\n"
   ]
  },
  {
   "cell_type": "code",
   "execution_count": null,
   "metadata": {},
   "outputs": [],
   "source": [
    "os.environ[\"REVOLUT_ACCOUNT_ID\"]\n"
   ]
  },
  {
   "cell_type": "code",
   "execution_count": null,
   "metadata": {},
   "outputs": [],
   "source": [
    "def add_env_variable(key, value):\n",
    "    dotenv_file = os.path.join(os.getcwd(), '.env')\n",
    "    print(dotenv_file)\n",
    "    set_key(dotenv_file, key, value)\n",
    "    os.environ[key] = value\n",
    "def create_account_id():\n",
    "    init = client.initialize_session(\n",
    "    # institution id\n",
    "    institution_id=REVOLUT_BANK_ID,\n",
    "    # redirect url after successful authentication\n",
    "    redirect_uri=\"https://gocardless.com\",\n",
    "    # additional layer of unique ID defined by you\n",
    "    reference_id=str(uuid4())\n",
    "    )\n",
    "    requisition_id = init.requisition_id\n",
    "\n",
    "    accounts = client.requisition.get_requisition_by_id(\n",
    "        requisition_id=init.requisition_id\n",
    "    )\n",
    "\n",
    "    link = accounts[\"link\"]\n",
    "    webbrowser.open(link)\n",
    "\n",
    "    \n",
    "    # Save account_id to .env file\n",
    "    # Read existing .env file\n",
    "    env_lines = []\n",
    "    account_id_exists = False\n",
    "    try:\n",
    "        add_env_variable(\"REVOLUT_ACCOUNT_ID\",account_id)\n",
    "    except FileNotFoundError:\n",
    "        print(\"File not found\")\n",
    "    return 1\n",
    "create_account_id()"
   ]
  },
  {
   "cell_type": "code",
   "execution_count": 4,
   "metadata": {},
   "outputs": [
    {
     "ename": "NameError",
     "evalue": "name 'client' is not defined",
     "output_type": "error",
     "traceback": [
      "\u001b[1;31m---------------------------------------------------------------------------\u001b[0m",
      "\u001b[1;31mNameError\u001b[0m                                 Traceback (most recent call last)",
      "Cell \u001b[1;32mIn[4], line 1\u001b[0m\n\u001b[1;32m----> 1\u001b[0m account \u001b[38;5;241m=\u001b[39m \u001b[43mclient\u001b[49m\u001b[38;5;241m.\u001b[39maccount_api(\u001b[38;5;28mid\u001b[39m\u001b[38;5;241m=\u001b[39m\u001b[38;5;124m\"\u001b[39m\u001b[38;5;124m6a0c995b-06cd-4344-a127-3212387a7a2cµ\u001b[39m\u001b[38;5;124m\"\u001b[39m)\n\u001b[0;32m      2\u001b[0m \u001b[38;5;28mprint\u001b[39m(account\u001b[38;5;241m.\u001b[39mget_metadata())\n",
      "\u001b[1;31mNameError\u001b[0m: name 'client' is not defined"
     ]
    }
   ],
   "source": [
    "account = client.account_api(id=\"6a0c995b-06cd-4344-a127-3212387a7a2cµ\")\n",
    "print(account.get_metadata())"
   ]
  },
  {
   "cell_type": "code",
   "execution_count": 1,
   "metadata": {},
   "outputs": [
    {
     "ename": "NameError",
     "evalue": "name 'NordigenClient' is not defined",
     "output_type": "error",
     "traceback": [
      "\u001b[1;31m---------------------------------------------------------------------------\u001b[0m",
      "\u001b[1;31mNameError\u001b[0m                                 Traceback (most recent call last)",
      "Cell \u001b[1;32mIn[1], line 10\u001b[0m\n\u001b[0;32m      8\u001b[0m     \u001b[38;5;28mprint\u001b[39m(account\u001b[38;5;241m.\u001b[39mget_metadata())\n\u001b[0;32m      9\u001b[0m     \u001b[38;5;28;01mreturn\u001b[39;00m account\n\u001b[1;32m---> 10\u001b[0m a\u001b[38;5;241m=\u001b[39m\u001b[43maccount\u001b[49m\u001b[43m(\u001b[49m\u001b[43m)\u001b[49m\n",
      "Cell \u001b[1;32mIn[1], line 2\u001b[0m, in \u001b[0;36maccount\u001b[1;34m()\u001b[0m\n\u001b[0;32m      1\u001b[0m \u001b[38;5;28;01mdef\u001b[39;00m \u001b[38;5;21maccount\u001b[39m():\n\u001b[1;32m----> 2\u001b[0m     client \u001b[38;5;241m=\u001b[39m \u001b[43mNordigenClient\u001b[49m(\n\u001b[0;32m      3\u001b[0m     secret_id\u001b[38;5;241m=\u001b[39mNORDIGEN_SECRET_ID,\n\u001b[0;32m      4\u001b[0m     secret_key\u001b[38;5;241m=\u001b[39mNORDIGEN_SECRET_KEY\n\u001b[0;32m      5\u001b[0m )\n\u001b[0;32m      6\u001b[0m     account_id \u001b[38;5;241m=\u001b[39m os\u001b[38;5;241m.\u001b[39mgetenv(\u001b[38;5;124m\"\u001b[39m\u001b[38;5;124mACCOUNT_ID\u001b[39m\u001b[38;5;124m\"\u001b[39m)\n\u001b[0;32m      7\u001b[0m     account \u001b[38;5;241m=\u001b[39m client\u001b[38;5;241m.\u001b[39maccount_api(\u001b[38;5;28mid\u001b[39m\u001b[38;5;241m=\u001b[39m\u001b[38;5;124m\"\u001b[39m\u001b[38;5;124m6a0c995b-06cd-4344-a127-3212387a7a2c\u001b[39m\u001b[38;5;124m\"\u001b[39m)\n",
      "\u001b[1;31mNameError\u001b[0m: name 'NordigenClient' is not defined"
     ]
    }
   ],
   "source": [
    "def account():\n",
    "    client = NordigenClient(\n",
    "    secret_id=NORDIGEN_SECRET_ID,\n",
    "    secret_key=NORDIGEN_SECRET_KEY\n",
    ")\n",
    "    account_id = os.getenv(\"ACCOUNT_ID\")\n",
    "    account = client.account_api(id=\"6a0c995b-06cd-4344-a127-3212387a7a2c\")\n",
    "    print(account.get_metadata())\n",
    "    return account\n",
    "a=account()"
   ]
  },
  {
   "cell_type": "code",
   "execution_count": null,
   "metadata": {},
   "outputs": [],
   "source": [
    "a.get_metadata()"
   ]
  },
  {
   "cell_type": "code",
   "execution_count": null,
   "metadata": {},
   "outputs": [],
   "source": [
    "a"
   ]
  },
  {
   "cell_type": "code",
   "execution_count": null,
   "metadata": {},
   "outputs": [],
   "source": [
    "\n",
    "print(accounts)# Get account id from the list.\n",
    "account_id = accounts[\"accounts\"][0]\n",
    "\n",
    "# Create account instance and provide your account id from previous step\n",
    "account = client.account_api(id=account_id)\n",
    "\n",
    "# Fetch account metadata\n",
    "meta_data = account.get_metadata()\n",
    "# Fetch details\n",
    "details = account.get_details()\n",
    "# Fetch balances\n",
    "balances = account.get_balances()\n",
    "# Fetch transactions\n",
    "transactions = account.get_transactions()\n",
    "# Filter transactions by specific date range\n",
    "transactions = account.get_transactions(date_from=\"2021-12-01\", date_to=\"2024-12-08\")\n"
   ]
  },
  {
   "cell_type": "code",
   "execution_count": null,
   "metadata": {},
   "outputs": [],
   "source": [
    "len(transactions)\n"
   ]
  },
  {
   "cell_type": "code",
   "execution_count": null,
   "metadata": {},
   "outputs": [],
   "source": []
  }
 ],
 "metadata": {
  "kernelspec": {
   "display_name": "ploutos-wcQ0yzvx-py3.11",
   "language": "python",
   "name": "python3"
  },
  "language_info": {
   "codemirror_mode": {
    "name": "ipython",
    "version": 3
   },
   "file_extension": ".py",
   "mimetype": "text/x-python",
   "name": "python",
   "nbconvert_exporter": "python",
   "pygments_lexer": "ipython3",
   "version": "3.11.5"
  }
 },
 "nbformat": 4,
 "nbformat_minor": 2
}
