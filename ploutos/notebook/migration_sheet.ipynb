{
 "cells": [
  {
   "cell_type": "code",
   "execution_count": 1,
   "metadata": {},
   "outputs": [
    {
     "name": "stdout",
     "output_type": "stream",
     "text": [
      "/Users/jeremy_bon/Documents/Perso/Ploutos/ploutos\n"
     ]
    },
    {
     "name": "stderr",
     "output_type": "stream",
     "text": [
      "/Users/jeremy_bon/Library/Caches/pypoetry/virtualenvs/ploutos-syHIIjPM-py3.12/lib/python3.12/site-packages/IPython/core/magics/osm.py:417: UserWarning: using dhist requires you to install the `pickleshare` library.\n",
      "  self.shell.db['dhist'] = compress_dhist(dhist)[-100:]\n"
     ]
    }
   ],
   "source": [
    "cd /Users/jeremy_bon/Documents/Perso/Ploutos/ploutos\n"
   ]
  },
  {
   "cell_type": "code",
   "execution_count": null,
   "metadata": {},
   "outputs": [
    {
     "name": "stdout",
     "output_type": "stream",
     "text": [
      "BankApi module not loaded yet - no need to reload\n"
     ]
    }
   ],
   "source": [
    "\n",
    "from pandas import Timestamp\n",
    "\n",
    "from dotenv import load_dotenv\n",
    "import os\n",
    "import pandas as pd\n",
    "import warnings\n",
    "warnings.filterwarnings(\"ignore\")\n",
    "from utils.sheet_migration import SheetMigration\n",
    "load_dotenv(dotenv_path=\"notebook/.env\", override=True)\n",
    "import sys\n",
    "from importlib import reload\n",
    "from ploutos.api.bank_api import BankApi, Bank\n",
    "if 'api.bank_api' in sys.modules:\n",
    "    reload(sys.modules['ploutos.api.bank_api'])\n",
    "else:\n",
    "    print(\"BankApi module not loaded yet - no need to reload\")\n"
   ]
  },
  {
   "cell_type": "markdown",
   "metadata": {},
   "source": [
    "### Sheet Migration"
   ]
  },
  {
   "cell_type": "code",
   "execution_count": null,
   "metadata": {},
   "outputs": [
    {
     "name": "stdout",
     "output_type": "stream",
     "text": [
      "db.models module not loaded yet - no need to reload\n"
     ]
    }
   ],
   "source": [
    "from ploutos.api.bank_api import BankApi, Bank\n",
    "if 'db.models' in sys.modules:\n",
    "    reload(sys.modules['db.models'])\n",
    "else:\n",
    "    print(\"db.models module not loaded yet - no need to reload\")\n",
    "\n",
    "from db.models import *\n",
    "#account_api=BankApi(Bank.LCL)\n",
    "\n",
    "#print(account_api.get_metadata())"
   ]
  },
  {
   "cell_type": "code",
   "execution_count": 6,
   "metadata": {},
   "outputs": [],
   "source": [
    "# sheet_migration=SheetMigration()\n",
    "\n",
    "# print(sheet_migration.account_list)\n"
   ]
  },
  {
   "cell_type": "code",
   "execution_count": null,
   "metadata": {},
   "outputs": [],
   "source": [
    "df_paiement=sheet_migration.get_data(\"Paiement\")\n",
    "df_transfert=sheet_migration.get_data(\"Transfert\")\n",
    "df_benefices=sheet_migration.get_data(\"Bénéfices\")\n"
   ]
  },
  {
   "cell_type": "code",
   "execution_count": null,
   "metadata": {},
   "outputs": [],
   "source": [
    "accounts_to_create_budget=[]\n",
    "for index, row in df_paiement[['Catégorie','Sous Catégorie']].drop_duplicates().iterrows():\n",
    "    accounts_to_create_budget.append(AccountCreate(\n",
    "        category=row['Catégorie'] or \"Unknown\",\n",
    "        sub_category=\"Unknown\",\n",
    "        is_real=False,\n",
    "        name=row['Sous Catégorie'] or \"Unknown\",\n",
    "        original_amount=0\n",
    "    ))\n",
    "print(\"Budget accounts to create: \",len(accounts_to_create_budget))"
   ]
  },
  {
   "cell_type": "code",
   "execution_count": null,
   "metadata": {},
   "outputs": [],
   "source": [
    "accounts_to_creat_real=[]\n",
    "for index, row in df_paiement[['Compte']].drop_duplicates().iterrows():\n",
    "    accounts_to_creat_real.append(AccountCreate(\n",
    "        category=row['Compte'] or \"Unknown\",\n",
    "        sub_category=\"Unknown\",\n",
    "        is_real=True,\n",
    "        name=row['Compte'] or \"Unknown\",\n",
    "        original_amount=0\n",
    "    ))\n",
    "print(\"Real accounts to create: \",len(accounts_to_creat_real))\n"
   ]
  },
  {
   "cell_type": "code",
   "execution_count": null,
   "metadata": {},
   "outputs": [],
   "source": [
    "accounts_to_create_missing=[]\n",
    "for account in set(df_transfert['Compte départ']).union(set(df_transfert['Compte arrivée'])).union(set(df_benefices['Compte'])) -set(df_paiement['Compte']):\n",
    "    accounts_to_create_missing.append(AccountCreate(\n",
    "        category=account or \"Unknown\",\n",
    "        sub_category=\"Unknown\",\n",
    "        is_real=True,\n",
    "        name=account or \"Unknown\",\n",
    "        original_amount=0\n",
    "    ))\n",
    "accounts_to_create_missing.append(AccountCreate(\n",
    "        category=\"Unknown\",\n",
    "        sub_category=\"Unknown\",\n",
    "        is_real=True,\n",
    "        name=\"Unknown\",\n",
    "        original_amount=0\n",
    "    ))\n",
    "print(\"Transfer and benefit accounts to create\",len(accounts_to_create_missing))\n",
    "\n"
   ]
  },
  {
   "cell_type": "code",
   "execution_count": 8,
   "metadata": {},
   "outputs": [
    {
     "ename": "NameError",
     "evalue": "name 'accounts_to_creat_real' is not defined",
     "output_type": "error",
     "traceback": [
      "\u001b[0;31m---------------------------------------------------------------------------\u001b[0m",
      "\u001b[0;31mNameError\u001b[0m                                 Traceback (most recent call last)",
      "Cell \u001b[0;32mIn[8], line 30\u001b[0m\n\u001b[1;32m     27\u001b[0m             \u001b[38;5;28mprint\u001b[39m(\u001b[38;5;124mf\u001b[39m\u001b[38;5;124m\"\u001b[39m\u001b[38;5;124mError creating account \u001b[39m\u001b[38;5;132;01m{\u001b[39;00maccount\u001b[38;5;241m.\u001b[39mname\u001b[38;5;132;01m}\u001b[39;00m\u001b[38;5;124m: \u001b[39m\u001b[38;5;132;01m{\u001b[39;00m\u001b[38;5;28mstr\u001b[39m(e)\u001b[38;5;132;01m}\u001b[39;00m\u001b[38;5;124m\"\u001b[39m)\n\u001b[1;32m     29\u001b[0m \u001b[38;5;66;03m# Run the account creation using asyncio.run() since we're using nest_asyncio\u001b[39;00m\n\u001b[0;32m---> 30\u001b[0m asyncio\u001b[38;5;241m.\u001b[39mrun(create_accounts_from_sheet(\u001b[43maccounts_to_creat_real\u001b[49m\u001b[38;5;241m+\u001b[39maccounts_to_create_budget\u001b[38;5;241m+\u001b[39maccounts_to_create_missing))\n",
      "\u001b[0;31mNameError\u001b[0m: name 'accounts_to_creat_real' is not defined"
     ]
    }
   ],
   "source": [
    "from api.deps import get_db\n",
    "from api.routers.accounts import *\n",
    "import importlib\n",
    "from api.routers.accounts import create_account\n",
    "importlib.reload(importlib.import_module('api.routers.accounts'))\n",
    "\n",
    "\n",
    "from fastapi import Depends\n",
    "import asyncio\n",
    "import nest_asyncio\n",
    "\n",
    "# Apply nest_asyncio to allow nested event loops\n",
    "nest_asyncio.apply()\n",
    "\n",
    "# Create accounts from sheet data\n",
    "async def create_accounts_from_sheet(accounts_to_create = []):\n",
    "    db = get_db\n",
    "    \n",
    "    # Define account types based on sheet data\n",
    "    \n",
    "    # Create accounts\n",
    "    for account in accounts_to_create:\n",
    "        try:\n",
    "            await create_account(account, db)\n",
    "            print(f\"Created account: {account.name}\")\n",
    "        except Exception as e:\n",
    "            print(f\"Error creating account {account.name}: {str(e)}\")\n",
    "\n",
    "# Run the account creation using asyncio.run() since we're using nest_asyncio\n",
    "asyncio.run(create_accounts_from_sheet(accounts_to_creat_real+accounts_to_create_budget+accounts_to_create_missing))\n"
   ]
  },
  {
   "cell_type": "code",
   "execution_count": 7,
   "metadata": {},
   "outputs": [
    {
     "ename": "NameError",
     "evalue": "name 'asyncio' is not defined",
     "output_type": "error",
     "traceback": [
      "\u001b[0;31m---------------------------------------------------------------------------\u001b[0m",
      "\u001b[0;31mNameError\u001b[0m                                 Traceback (most recent call last)",
      "Cell \u001b[0;32mIn[7], line 10\u001b[0m\n\u001b[1;32m      7\u001b[0m     \u001b[38;5;28;01mreturn\u001b[39;00m accounts\n\u001b[1;32m      9\u001b[0m \u001b[38;5;66;03m# Run the query using asyncio.run() since we're using nest_asyncio\u001b[39;00m\n\u001b[0;32m---> 10\u001b[0m accounts \u001b[38;5;241m=\u001b[39m \u001b[43masyncio\u001b[49m\u001b[38;5;241m.\u001b[39mrun(query_all_accounts())\n\u001b[1;32m     11\u001b[0m \u001b[38;5;28mprint\u001b[39m(\u001b[38;5;124m\"\u001b[39m\u001b[38;5;124mFound accounts:\u001b[39m\u001b[38;5;124m\"\u001b[39m, \u001b[38;5;28mlen\u001b[39m(accounts))\n\u001b[1;32m     12\u001b[0m account_text\u001b[38;5;241m=\u001b[39m[accounts[\u001b[38;5;124m'\u001b[39m\u001b[38;5;124mname\u001b[39m\u001b[38;5;124m'\u001b[39m] \u001b[38;5;28;01mfor\u001b[39;00m accounts \u001b[38;5;129;01min\u001b[39;00m accounts]\n",
      "\u001b[0;31mNameError\u001b[0m: name 'asyncio' is not defined"
     ]
    }
   ],
   "source": [
    "from api.routers.accounts import get_accounts\n",
    "from api.deps import get_db\n",
    "\n",
    "async def query_all_accounts():\n",
    "    db = get_db\n",
    "    accounts = await get_accounts(db)\n",
    "    return accounts\n",
    "\n",
    "# Run the query using asyncio.run() since we're using nest_asyncio\n",
    "accounts = asyncio.run(query_all_accounts())\n",
    "print(\"Found accounts:\", len(accounts))\n",
    "account_text=[accounts['name'] for accounts in accounts]\n",
    "for account in accounts:\n",
    "    account=Account(**account)\n",
    "    print(f\"- {account.name} (ID: {account.accountId})\")\n"
   ]
  },
  {
   "cell_type": "code",
   "execution_count": null,
   "metadata": {},
   "outputs": [],
   "source": [
    "db = get_db\n",
    "accounts = (\n",
    "    db.table(\"Accounts\")\n",
    "    .select(\"*\")\n",
    "    .execute()\n",
    ")\n",
    "accounts = pd.DataFrame(accounts.data)\n"
   ]
  },
  {
   "cell_type": "code",
   "execution_count": null,
   "metadata": {},
   "outputs": [],
   "source": [
    "from tqdm import tqdm\n",
    "df_paiement['account_credit'] = None\n",
    "df_paiement['account_debit'] = None\n",
    "\n",
    "for index, row in tqdm(df_paiement.iterrows(), total=len(df_paiement)):\n",
    "    try:\n",
    "        debit_account = accounts[accounts['name'] == (row[\"Compte\"] if pd.notna(row[\"Compte\"]) else \"Unknown\")]\n",
    "        if not debit_account.empty:\n",
    "            df_paiement.at[index, 'account_debit'] = debit_account.iloc[0]['accountId']\n",
    "        else:\n",
    "            print(f\"Warning: No matching debit account found for {row['Compte']}\")\n",
    "            \n",
    "        credit_account = accounts[\n",
    "            (accounts['name'] == (row[\"Sous Catégorie\"] if row[\"Sous Catégorie\"] else \"Unknown\")) &\n",
    "            (accounts['category'] == (row[\"Catégorie\"] if row[\"Catégorie\"] else \"Unknown\")) & (accounts['is_real']==False)\n",
    "        ]\n",
    "        if not credit_account.empty:\n",
    "            df_paiement.at[index, 'account_credit'] = credit_account.iloc[0]['accountId']\n",
    "        else:\n",
    "            print(f\"Warning: No matching credit account found for {index}\")\n",
    "    except Exception as e:\n",
    "        raise e\n",
    "        print(f\"Error getting account IDs for row {index}: {str(e)}\")"
   ]
  },
  {
   "cell_type": "code",
   "execution_count": null,
   "metadata": {},
   "outputs": [],
   "source": [
    "print(df_paiement[df_paiement[\"account_credit\"].isna()])\n",
    "print(df_paiement[df_paiement[\"account_debit\"].isna()])\n",
    "\n"
   ]
  },
  {
   "cell_type": "code",
   "execution_count": null,
   "metadata": {},
   "outputs": [],
   "source": [
    "import importlib\n",
    "import db.models\n",
    "importlib.reload(db.models)\n",
    "\n",
    "from db.models import TransactionCreate, TransactionSlaveCreate\n",
    "from db.migrations import upload_transactions"
   ]
  },
  {
   "cell_type": "code",
   "execution_count": null,
   "metadata": {},
   "outputs": [],
   "source": [
    "from uuid import UUID, uuid4\n",
    "from datetime import datetime\n",
    "master_transactions = []\n",
    "slaves_transactions = []\n",
    "for index, row in df_paiement.iterrows():\n",
    "    # Get account type ID for this transaction\n",
    "    account_credit = row[\"account_credit\"]\n",
    "    account_debit = row[\"account_debit\"]\n",
    "    date=pd.Timestamp(datetime.now().timestamp())\n",
    "    creditId=uuid4()\n",
    "    debitId=uuid4()\n",
    "    if row['Montant']>0:\n",
    "        master_transactions.append(Transaction(\n",
    "            transactionId=debitId,\n",
    "            created_at=date,\n",
    "            updated_at=date,\n",
    "            description=row[\"Description\"],\n",
    "            date=pd.Timestamp(row[\"Date\"]),\n",
    "            type=\"debit\",\n",
    "            amount=row[\"Montant\"],\n",
    "            accountId=account_debit\n",
    "    ))\n",
    "        slaves_transactions.append(TransactionSlave(\n",
    "            slaveId=creditId,\n",
    "            created_at=date,\n",
    "            updated_at=date,\n",
    "            type=\"debit\",\n",
    "            amount=row[\"Montant\"],\n",
    "            date=pd.Timestamp(row[\"Date\"]),\n",
    "            accountId=account_credit,\n",
    "            masterId=debitId,\n",
    "                ))\n",
    "    else:\n",
    "        raise ValueError(f\"Montant négatif pour la transaction {row}\")\n",
    "\n"
   ]
  },
  {
   "cell_type": "code",
   "execution_count": null,
   "metadata": {},
   "outputs": [],
   "source": [
    "df_benefices=df_benefices.merge(accounts,how='left',left_on='Compte',right_on='name')\n",
    "df_transfert=df_transfert.merge(accounts[['accountId','name']].rename(columns={'accountId':'departID'}), how='left', left_on='Compte départ', right_on='name').merge(accounts[['accountId','name']].rename(columns={'accountId':'arriveeID'}), how='left', left_on='Compte arrivée', right_on='name')"
   ]
  },
  {
   "cell_type": "code",
   "execution_count": null,
   "metadata": {},
   "outputs": [],
   "source": [
    "unknown_id = accounts[(accounts['sub_category'] == 'Unknown') & (accounts['category'] == 'Unknown') & (accounts['is_real'] == False) & (accounts['name'] == 'Unknown')]['accountId'].iloc[0]\n",
    "unknown_id"
   ]
  },
  {
   "cell_type": "code",
   "execution_count": null,
   "metadata": {},
   "outputs": [],
   "source": [
    "for index, row in df_benefices.iterrows():\n",
    "    # Get account type ID for this transaction\n",
    "    account_credit = row[\"accountId\"]\n",
    "    account_debit = unknown_id\n",
    "    date=pd.Timestamp(datetime.now().timestamp())\n",
    "    creditId=uuid4()\n",
    "    debitId=uuid4()\n",
    "    if row['Montant']>0:\n",
    "        master_transactions.append(Transaction(\n",
    "            transactionId=creditId,\n",
    "            created_at=date,\n",
    "            updated_at=date,\n",
    "            description=row[\"Raison\"],\n",
    "            date=pd.Timestamp(row[\"Date\"]),\n",
    "            type=\"credit\",\n",
    "            amount=row[\"Montant\"],\n",
    "            accountId=account_credit\n",
    "    ))\n",
    "        slaves_transactions.append(TransactionSlave(\n",
    "            slaveId=debitId,\n",
    "            created_at=date,\n",
    "            updated_at=date,\n",
    "            type=\"debit\",\n",
    "            amount=row[\"Montant\"],\n",
    "            date=pd.Timestamp(row[\"Date\"]),\n",
    "            accountId=account_debit,\n",
    "            masterId=creditId,\n",
    "                ))\n",
    "    else:\n",
    "        raise ValueError(f\"Montant négatif pour la transaction {row}\")"
   ]
  },
  {
   "cell_type": "code",
   "execution_count": null,
   "metadata": {},
   "outputs": [],
   "source": [
    "for index, row in df_transfert.iterrows():\n",
    "    # Get account type ID for this transaction\n",
    "    account_credit = row[\"arriveeID\"]\n",
    "    account_debit = row['departID']\n",
    "    date=pd.Timestamp(datetime.now().timestamp())\n",
    "    creditId=uuid4()\n",
    "    debitId=uuid4()\n",
    "    if row['Montant']>0:\n",
    "        master_transactions.append(Transaction(\n",
    "            transactionId=debitId,\n",
    "            created_at=date,\n",
    "            updated_at=date,\n",
    "            description=row[\"Description\"],\n",
    "            date=pd.Timestamp(row[\"Date\"]),\n",
    "            type=\"debit\",\n",
    "            amount=row[\"Montant\"],\n",
    "            accountId=account_debit\n",
    "    ))\n",
    "        slaves_transactions.append(TransactionSlave(\n",
    "            slaveId=creditId,\n",
    "            created_at=date,\n",
    "            updated_at=date,\n",
    "            type=\"credit\",\n",
    "            amount=row[\"Montant\"],\n",
    "            date=pd.Timestamp(row[\"Date\"]),\n",
    "            accountId=account_credit,\n",
    "            masterId=debitId,\n",
    "                ))\n",
    "    else:\n",
    "        raise ValueError(f\"Montant négatif pour la transaction {row}\")"
   ]
  },
  {
   "cell_type": "code",
   "execution_count": null,
   "metadata": {},
   "outputs": [],
   "source": [
    "assert len(master_transactions)==1581"
   ]
  },
  {
   "cell_type": "code",
   "execution_count": null,
   "metadata": {},
   "outputs": [],
   "source": [
    "\n",
    "        \n",
    "\n",
    "# Call the function with the database session and lists\n",
    "upload_transactions(get_db, master_transactions, slaves_transactions)\n"
   ]
  },
  {
   "cell_type": "code",
   "execution_count": null,
   "metadata": {},
   "outputs": [],
   "source": []
  },
  {
   "cell_type": "code",
   "execution_count": null,
   "metadata": {},
   "outputs": [],
   "source": [
    "accounts"
   ]
  },
  {
   "cell_type": "code",
   "execution_count": null,
   "metadata": {},
   "outputs": [],
   "source": [
    "from uuid import UUID, uuid4\n",
    "from datetime import datetime\n",
    "master_transactions = []\n",
    "slaves_transactions = []\n",
    "for index, row in df_paiement.iterrows():\n",
    "    # Get account type ID for this transaction\n",
    "    account_credit = row[\"account_credit\"]\n",
    "    account_debit = row[\"account_debit\"]\n",
    "    date=pd.Timestamp(datetime.now().timestamp())\n",
    "    creditId=uuid4()\n",
    "    debitId=uuid4()\n",
    "    if row['Montant']>0:\n",
    "        master_transactions.append(Transaction(\n",
    "            transactionId=creditId,\n",
    "            created_at=date,\n",
    "            updated_at=date,\n",
    "            description=row[\"Description\"],\n",
    "            date=pd.Timestamp(row[\"Date\"]),\n",
    "            type=\"debit\",\n",
    "            amount=-row[\"Montant\"],\n",
    "            accountId=account_debit\n",
    "    ))\n",
    "        slaves_transactions.append(TransactionSlave(\n",
    "            slaveId=debitId,\n",
    "            created_at=date,\n",
    "            updated_at=date,\n",
    "            type=\"debit\",\n",
    "            amount=row[\"Montant\"],\n",
    "            date=pd.Timestamp(row[\"Date\"]),\n",
    "            accountId=account_debit,\n",
    "            masterId=creditId,\n",
    "                ))\n",
    "    else:\n",
    "        raise ValueError(f\"Montant négatif pour la transaction {row}\")"
   ]
  },
  {
   "cell_type": "markdown",
   "metadata": {},
   "source": [
    "### LCL"
   ]
  },
  {
   "cell_type": "markdown",
   "metadata": {},
   "source": [
    "#### Compte Courant"
   ]
  },
  {
   "cell_type": "code",
   "execution_count": null,
   "metadata": {},
   "outputs": [],
   "source": [
    "from ploutos.utils.scraping.scrap_lcl import convert_LCLpdf_to_df\n",
    "\n",
    "old_lcl=convert_LCLpdf_to_df(\"ploutos/data/lcl/compte_courant\")"
   ]
  },
  {
   "cell_type": "code",
   "execution_count": null,
   "metadata": {},
   "outputs": [],
   "source": [
    "def calculate_last_transaction(db_payement, db_transfert, db_benefices,account):\n",
    "    last_transaction=[]\n",
    "    last_transaction.append(db_payement[db_payement[\"Compte\"]==account][\"Date\"].max())\n",
    "    last_transaction.append(db_transfert[db_transfert[\"Compte arrivée\"]==account][\"Date\"].max())\n",
    "    last_transaction.append(db_transfert[db_transfert[\"Compte départ\"]==account][\"Date\"].max())\n",
    "    last_transaction.append(db_benefices[db_benefices[\"Compte\"]==account][\"Date\"].max())\n",
    "    last_transaction=[ts for ts in last_transaction if pd.notna(ts)]\n",
    "    if len(last_transaction)>0:\n",
    "        last_transaction=max(last_transaction)\n",
    "    else:\n",
    "        last_transaction=None\n",
    "    return last_transaction\n"
   ]
  },
  {
   "cell_type": "code",
   "execution_count": null,
   "metadata": {},
   "outputs": [],
   "source": [
    "last_transaction=calculate_last_transaction(df_paiement, df_transfert, df_benefices,\"Compte Courant\").strftime(\"%Y-%m-%d\")\n",
    "transactions=account_api.get_transactions(date_from='2024-06-06')\n",
    "print(last_transaction)\n"
   ]
  },
  {
   "cell_type": "code",
   "execution_count": null,
   "metadata": {},
   "outputs": [],
   "source": [
    "debit_old=old_lcl[(old_lcl[\"Date\"] <= \"2024-09-30\")&(old_lcl[\"Date\"] > last_transaction)]['DEBIT'].sum()\n",
    "credit_old=old_lcl[(old_lcl[\"Date\"] <= \"2024-09-30\")&(old_lcl[\"Date\"] > last_transaction)]['CREDIT'].sum()\n",
    "sheet_value=float(sheet_migration.account_list[sheet_migration.account_list[\"Compte\"]==\"Compte Courant\"][\"Actuel\"].values[0].replace(\"€\",\"\").replace(\",\",\".\"))\n",
    "end_september_balance=float(sheet_value)+credit_old-debit_old\n",
    "print(f\"End of September balance: {end_september_balance}\")\n",
    "current_balance=end_september_balance+transactions[transactions[\"Date\"]>'2024-09-30']['Montant'].sum()\n",
    "print(f\"Current balance: {current_balance}\")\n",
    "official_balance=account_api.get_balance()\n",
    "print(f\"Official balance: {official_balance}\")\n"
   ]
  },
  {
   "cell_type": "markdown",
   "metadata": {},
   "source": [
    "#### Compte Epargne\n"
   ]
  },
  {
   "cell_type": "markdown",
   "metadata": {},
   "source": [
    "Le livret jeune n'a pas subi de changement et va fermer. On regarde uniquement le livret A.\n",
    "On détecte les transactions de M JEREMY BON dans le compte courant avec `(transactions[\"Description\"].str.contains(\"M JEREMY BON\"))`"
   ]
  },
  {
   "cell_type": "code",
   "execution_count": null,
   "metadata": {},
   "outputs": [],
   "source": [
    "df_transfert[df_transfert[\"Compte départ\"]==\"Livret A\"]"
   ]
  },
  {
   "cell_type": "code",
   "execution_count": null,
   "metadata": {},
   "outputs": [],
   "source": [
    "convert_LCLpdf_to_df(\"ploutos/data/lcl/compte_livret\")\n",
    "last_transaction=calculate_last_transaction(df_paiement, df_transfert, df_benefices,\"Livret A\")\n",
    "print(last_transaction)\n"
   ]
  },
  {
   "cell_type": "code",
   "execution_count": null,
   "metadata": {},
   "outputs": [],
   "source": [
    "debit_old=old_lcl[(old_lcl[\"Description\"].str.contains(\"M JEREMY BON\"))&(old_lcl[\"Date\"] <= \"2024-09-30\")&(old_lcl[\"Date\"] > last_transaction)]['DEBIT'].sum()\n",
    "credit_old=old_lcl[(old_lcl[\"Description\"].str.contains(\"M JEREMY BON\"))&(old_lcl[\"Date\"] <= \"2024-09-30\")&(old_lcl[\"Date\"] > last_transaction)]['CREDIT'].sum()\n",
    "sheet_value=float(sheet_migration.account_list[sheet_migration.account_list[\"Compte\"]==\"Livret A\"][\"Actuel\"].values[0].replace(\"€\",\"\").replace(\",\",\".\").replace(\"\\u202f\",\"\"))\n",
    "end_september_balance=float(sheet_value)-credit_old+debit_old\n",
    "print(f\"End of September balance: {end_september_balance}\")\n",
    "current_balance=end_september_balance-transactions[(transactions[\"Description\"].str.contains(\"M JEREMY BON\"))&(transactions[\"Date\"]>'2024-09-30')]['Montant'].sum()\n",
    "print(f\"Current balance: {current_balance}\")\n",
    "official_balance=8000\n",
    "print(f\"Official balance: {official_balance}\")"
   ]
  },
  {
   "cell_type": "markdown",
   "metadata": {},
   "source": [
    "### Lydia"
   ]
  },
  {
   "cell_type": "code",
   "execution_count": null,
   "metadata": {},
   "outputs": [],
   "source": [
    "last_transaction=calculate_last_transaction(df_paiement, df_transfert, df_benefices,\"Lydia\")\n",
    "print(last_transaction)\n",
    "sheet_value=float(sheet_migration.account_list[sheet_migration.account_list[\"Compte\"]==\"Lydia\"][\"Actuel\"].values[0].replace(\"€\",\"\").replace(\",\",\".\").replace(\"\\u202f\",\"\"))\n",
    "print(f\"Lydia balance on {last_transaction.strftime('%Y-%m-%d')}: {sheet_value}\")\n"
   ]
  },
  {
   "cell_type": "code",
   "execution_count": null,
   "metadata": {},
   "outputs": [],
   "source": [
    "lydia_account_value=50.84\n",
    "new_transaction_lydia=pd.DataFrame([{\n",
    "    \"Date\":\"2024-09-01\",\n",
    "    \"Libellé\":\"Madrid Gael Terier\",\n",
    "    \"Montant\":38.89,\n",
    "    \"Compte\":\"Lydia\",\n",
    "},\n",
    "{\n",
    "    \"Date\":\"2024-08-31\",\n",
    "    \"Libellé\":\"Guilhem Leborgne\",\n",
    "    \"Montant\": -4,\n",
    "    \"Compte\":\"Lydia\",\n",
    "    \n",
    "},\n",
    "{\n",
    "    \"Date\":\"2024-08-27\",\n",
    "    \"Libellé\":\"Dépôt crte revolut 7255\",\n",
    "    \"Montant\": 25,\n",
    "    \"Compte\":\"Lydia\",\n",
    "},{\n",
    "    \"Date\":\"2024-08-27\",\n",
    "    \"Libellé\":\"Guilhem Leborgne\",\n",
    "    \"Montant\": -25,\n",
    "    \"Compte\":\"Lydia\",\n",
    "},\n",
    "{\n",
    "    \"Date\":\"2024-07-25\",\n",
    "    \"Libellé\":\"Kdo Juan Lucie Formery\",\n",
    "    \"Montant\": -8.33,\n",
    "    \"Compte\":\"Lydia\",\n",
    "},\n",
    "{\n",
    "    \"Date\":\"2024-07-25\",\n",
    "    \"Libellé\":\"Juanita PA\",\n",
    "    \"Montant\": -3.33,\n",
    "    \"Compte\":\"Lydia\",\n",
    "},\n",
    "{\n",
    "    \"Date\":\"2024-07-16\",\n",
    "    \"Libellé\":\"Tren Gijon Lucie Formery\",\n",
    "    \"Montant\": 27.1,\n",
    "    \"Compte\":\"Lydia\",\n",
    "},\n",
    "{\n",
    "    \"Date\":\"2024-07-01\",\n",
    "    \"Libellé\":\"Thai Bastien Englebert\",\n",
    "    \"Montant\": -7.9,\n",
    "    \"Compte\":\"Lydia\",\n",
    "}\n",
    "])\n",
    "assert new_transaction_lydia['Montant'].sum()+sheet_value==lydia_account_value\n",
    "\n"
   ]
  },
  {
   "cell_type": "code",
   "execution_count": null,
   "metadata": {},
   "outputs": [],
   "source": []
  },
  {
   "cell_type": "markdown",
   "metadata": {},
   "source": [
    "### Revolut\n"
   ]
  },
  {
   "cell_type": "code",
   "execution_count": null,
   "metadata": {},
   "outputs": [],
   "source": [
    "cd c:\\Users\\bonje\\Documents\\Perso\\ploutos\n"
   ]
  },
  {
   "cell_type": "code",
   "execution_count": null,
   "metadata": {},
   "outputs": [],
   "source": [
    "\n",
    "from ploutos.api.bank_api import BankApi, Bank\n"
   ]
  },
  {
   "cell_type": "code",
   "execution_count": null,
   "metadata": {},
   "outputs": [],
   "source": [
    "lcl_api.get_transactions()"
   ]
  },
  {
   "cell_type": "code",
   "execution_count": null,
   "metadata": {},
   "outputs": [],
   "source": [
    "lcl_api=BankApi(Bank.LCL)\n",
    "lcl_api.api.get_transactions()\n"
   ]
  },
  {
   "cell_type": "code",
   "execution_count": null,
   "metadata": {},
   "outputs": [],
   "source": [
    "revolut_api=BankApi(Bank.REVOLUT)\n"
   ]
  },
  {
   "cell_type": "code",
   "execution_count": null,
   "metadata": {},
   "outputs": [],
   "source": [
    "raw_transac=revolut_api.api.get_transactions()"
   ]
  },
  {
   "cell_type": "code",
   "execution_count": null,
   "metadata": {},
   "outputs": [],
   "source": [
    "pd.DataFrame(raw_transac['transactions']['pending'])"
   ]
  },
  {
   "cell_type": "code",
   "execution_count": null,
   "metadata": {},
   "outputs": [],
   "source": [
    "transac_rev=revolut_api.get_transactions()\n"
   ]
  },
  {
   "cell_type": "markdown",
   "metadata": {},
   "source": [
    "### Autres"
   ]
  },
  {
   "cell_type": "code",
   "execution_count": null,
   "metadata": {},
   "outputs": [],
   "source": [
    "transac_rev"
   ]
  },
  {
   "cell_type": "code",
   "execution_count": null,
   "metadata": {},
   "outputs": [],
   "source": [
    "sheet_migration.account_list"
   ]
  },
  {
   "cell_type": "markdown",
   "metadata": {},
   "source": [
    "    ### Tricount (A faire)"
   ]
  },
  {
   "cell_type": "markdown",
   "metadata": {},
   "source": [
    "### ticket resto (A solde)"
   ]
  },
  {
   "cell_type": "markdown",
   "metadata": {},
   "source": [
    "#### Natixis Interépargne \n"
   ]
  },
  {
   "cell_type": "markdown",
   "metadata": {},
   "source": [
    "### Retrieve previous transactions"
   ]
  },
  {
   "cell_type": "code",
   "execution_count": 1,
   "metadata": {},
   "outputs": [
    {
     "name": "stdout",
     "output_type": "stream",
     "text": [
      "/Users/jeremy_bon/Documents/Perso/Ploutos/ploutos\n"
     ]
    },
    {
     "name": "stderr",
     "output_type": "stream",
     "text": [
      "/Users/jeremy_bon/Library/Caches/pypoetry/virtualenvs/ploutos-syHIIjPM-py3.12/lib/python3.12/site-packages/IPython/core/magics/osm.py:417: UserWarning: using dhist requires you to install the `pickleshare` library.\n",
      "  self.shell.db['dhist'] = compress_dhist(dhist)[-100:]\n"
     ]
    }
   ],
   "source": [
    "cd /Users/jeremy_bon/Documents/Perso/Ploutos/ploutos\n"
   ]
  },
  {
   "cell_type": "code",
   "execution_count": 29,
   "metadata": {},
   "outputs": [],
   "source": [
    "from api.deps import get_db\n",
    "from api.routers.accounts import *\n",
    "import importlib\n",
    "import pandas as pd\n",
    "importlib.reload(importlib.import_module('api.routers.accounts'))\n",
    "from api.routers.accounts import get_current_amounts\n",
    "from fastapi import Depends\n",
    "import nest_asyncio\n",
    "from api.bank_api import BankApi\n"
   ]
  },
  {
   "cell_type": "code",
   "execution_count": 42,
   "metadata": {},
   "outputs": [
    {
     "data": {
      "text/html": [
       "<div>\n",
       "<style scoped>\n",
       "    .dataframe tbody tr th:only-of-type {\n",
       "        vertical-align: middle;\n",
       "    }\n",
       "\n",
       "    .dataframe tbody tr th {\n",
       "        vertical-align: top;\n",
       "    }\n",
       "\n",
       "    .dataframe thead th {\n",
       "        text-align: right;\n",
       "    }\n",
       "</style>\n",
       "<table border=\"1\" class=\"dataframe\">\n",
       "  <thead>\n",
       "    <tr style=\"text-align: right;\">\n",
       "      <th></th>\n",
       "      <th>account_id</th>\n",
       "      <th>name</th>\n",
       "      <th>category</th>\n",
       "      <th>sub_category</th>\n",
       "      <th>current_amount</th>\n",
       "      <th>is_real</th>\n",
       "      <th>max_date</th>\n",
       "    </tr>\n",
       "  </thead>\n",
       "  <tbody>\n",
       "    <tr>\n",
       "      <th>0</th>\n",
       "      <td>42aa4dec-ae44-4898-a0f5-17b063283314</td>\n",
       "      <td>Unknown</td>\n",
       "      <td>Unknown</td>\n",
       "      <td>Unknown</td>\n",
       "      <td>0.000000e+00</td>\n",
       "      <td>True</td>\n",
       "      <td>NaT</td>\n",
       "    </tr>\n",
       "    <tr>\n",
       "      <th>1</th>\n",
       "      <td>e775ea39-f089-4432-83c0-f2477aba9248</td>\n",
       "      <td>Lydia</td>\n",
       "      <td>Lydia</td>\n",
       "      <td>Unknown</td>\n",
       "      <td>2.999379e-12</td>\n",
       "      <td>True</td>\n",
       "      <td>2025-06-23 13:10:44.393768+00:00</td>\n",
       "    </tr>\n",
       "  </tbody>\n",
       "</table>\n",
       "</div>"
      ],
      "text/plain": [
       "                             account_id     name category sub_category  \\\n",
       "0  42aa4dec-ae44-4898-a0f5-17b063283314  Unknown  Unknown      Unknown   \n",
       "1  e775ea39-f089-4432-83c0-f2477aba9248    Lydia    Lydia      Unknown   \n",
       "\n",
       "   current_amount  is_real                         max_date  \n",
       "0    0.000000e+00     True                              NaT  \n",
       "1    2.999379e-12     True 2025-06-23 13:10:44.393768+00:00  "
      ]
     },
     "execution_count": 42,
     "metadata": {},
     "output_type": "execute_result"
    }
   ],
   "source": [
    "from api.routers.accounts import get_current_amounts\n",
    "\n",
    "async def query_all_accounts():\n",
    "    accounts = await get_current_amounts(get_db)\n",
    "    return accounts\n",
    "\n",
    "# If running in Jupyter, use nest_asyncio and run the coroutine directly\n",
    "accounts = await query_all_accounts()\n",
    "df_accounts = pd.DataFrame([a.model_dump() for a in accounts])\n",
    "\n",
    "df_accounts.head(2)"
   ]
  },
  {
   "cell_type": "code",
   "execution_count": 61,
   "metadata": {},
   "outputs": [],
   "source": [
    "account_id,current_amount=df_accounts[df_accounts['name'].str.contains(\"LCL\")][['account_id','current_amount']].iloc[0]"
   ]
  },
  {
   "cell_type": "code",
   "execution_count": 66,
   "metadata": {},
   "outputs": [
    {
     "name": "stdout",
     "output_type": "stream",
     "text": [
      "Error getting metadata for LCL_CRLYFRPP: {'response': {'summary': 'No Account matches the given query.', 'detail': 'No Account matches the given query.', 'status_code': 404}, 'status': 404}\n"
     ]
    },
    {
     "ename": "HTTPError",
     "evalue": "{'response': {'summary': 'No Account matches the given query.', 'detail': 'No Account matches the given query.', 'status_code': 404}, 'status': 404}",
     "output_type": "error",
     "traceback": [
      "\u001b[0;31m---------------------------------------------------------------------------\u001b[0m",
      "\u001b[0;31mHTTPError\u001b[0m                                 Traceback (most recent call last)",
      "Cell \u001b[0;32mIn[66], line 1\u001b[0m\n\u001b[0;32m----> 1\u001b[0m account_api\u001b[38;5;241m=\u001b[39m\u001b[43mBankApi\u001b[49m\u001b[43m(\u001b[49m\u001b[43maccountId\u001b[49m\u001b[38;5;241;43m=\u001b[39;49m\u001b[43maccount_id\u001b[49m\u001b[43m)\u001b[49m\n",
      "File \u001b[0;32m~/Documents/Perso/Ploutos/ploutos/api/bank_api.py:61\u001b[0m, in \u001b[0;36mBankApi.__init__\u001b[0;34m(self, accountId)\u001b[0m\n\u001b[1;32m     59\u001b[0m \u001b[38;5;28;01mexcept\u001b[39;00m \u001b[38;5;167;01mException\u001b[39;00m \u001b[38;5;28;01mas\u001b[39;00m e:\n\u001b[1;32m     60\u001b[0m     \u001b[38;5;28mprint\u001b[39m(\u001b[38;5;124mf\u001b[39m\u001b[38;5;124m\"\u001b[39m\u001b[38;5;124mError getting metadata for \u001b[39m\u001b[38;5;132;01m{\u001b[39;00m\u001b[38;5;28mself\u001b[39m\u001b[38;5;241m.\u001b[39maccount_name\u001b[38;5;132;01m}\u001b[39;00m\u001b[38;5;124m: \u001b[39m\u001b[38;5;132;01m{\u001b[39;00me\u001b[38;5;132;01m}\u001b[39;00m\u001b[38;5;124m\"\u001b[39m)\n\u001b[0;32m---> 61\u001b[0m     \u001b[38;5;28;01mraise\u001b[39;00m e\n",
      "File \u001b[0;32m~/Documents/Perso/Ploutos/ploutos/api/bank_api.py:52\u001b[0m, in \u001b[0;36mBankApi.__init__\u001b[0;34m(self, accountId)\u001b[0m\n\u001b[1;32m     50\u001b[0m \u001b[38;5;28mself\u001b[39m\u001b[38;5;241m.\u001b[39mapi \u001b[38;5;241m=\u001b[39m client\u001b[38;5;241m.\u001b[39maccount_api(\u001b[38;5;28mid\u001b[39m\u001b[38;5;241m=\u001b[39msecret)\n\u001b[1;32m     51\u001b[0m \u001b[38;5;28;01mtry\u001b[39;00m:\n\u001b[0;32m---> 52\u001b[0m     metadata \u001b[38;5;241m=\u001b[39m \u001b[38;5;28;43mself\u001b[39;49m\u001b[38;5;241;43m.\u001b[39;49m\u001b[43mapi\u001b[49m\u001b[38;5;241;43m.\u001b[39;49m\u001b[43mget_metadata\u001b[49m\u001b[43m(\u001b[49m\u001b[43m)\u001b[49m\n\u001b[1;32m     53\u001b[0m     \u001b[38;5;28;01mif\u001b[39;00m metadata[\u001b[38;5;124m'\u001b[39m\u001b[38;5;124mstatus\u001b[39m\u001b[38;5;124m'\u001b[39m] \u001b[38;5;241m!=\u001b[39m \u001b[38;5;124m'\u001b[39m\u001b[38;5;124mREADY\u001b[39m\u001b[38;5;124m'\u001b[39m:\n\u001b[1;32m     54\u001b[0m         \u001b[38;5;28mprint\u001b[39m(\u001b[38;5;124mf\u001b[39m\u001b[38;5;124m\"\u001b[39m\u001b[38;5;124mAccount \u001b[39m\u001b[38;5;132;01m{\u001b[39;00m\u001b[38;5;28mself\u001b[39m\u001b[38;5;241m.\u001b[39maccount_name\u001b[38;5;132;01m}\u001b[39;00m\u001b[38;5;124m is not enabled\u001b[39m\u001b[38;5;124m\"\u001b[39m)\n",
      "File \u001b[0;32m~/Library/Caches/pypoetry/virtualenvs/ploutos-syHIIjPM-py3.12/lib/python3.12/site-packages/nordigen/api/accounts.py:68\u001b[0m, in \u001b[0;36mAccountApi.get_metadata\u001b[0;34m(self)\u001b[0m\n\u001b[1;32m     59\u001b[0m \u001b[38;5;28;01mdef\u001b[39;00m \u001b[38;5;21mget_metadata\u001b[39m(\u001b[38;5;28mself\u001b[39m) \u001b[38;5;241m-\u001b[39m\u001b[38;5;241m>\u001b[39m \u001b[38;5;28mdict\u001b[39m:\n\u001b[1;32m     60\u001b[0m \u001b[38;5;250m    \u001b[39m\u001b[38;5;124;03m\"\"\"\u001b[39;00m\n\u001b[1;32m     61\u001b[0m \u001b[38;5;124;03m    Access account metadata.\u001b[39;00m\n\u001b[1;32m     62\u001b[0m \u001b[38;5;124;03m    Information about the account record, such as the processing status and IBAN.\u001b[39;00m\n\u001b[0;32m   (...)\u001b[0m\n\u001b[1;32m     66\u001b[0m \u001b[38;5;124;03m        AccountData: account metadata\u001b[39;00m\n\u001b[1;32m     67\u001b[0m \u001b[38;5;124;03m    \"\"\"\u001b[39;00m\n\u001b[0;32m---> 68\u001b[0m     \u001b[38;5;28;01mreturn\u001b[39;00m \u001b[38;5;28;43mself\u001b[39;49m\u001b[38;5;241;43m.\u001b[39;49m\u001b[43m__request\u001b[49m\u001b[43m(\u001b[49m\n\u001b[1;32m     69\u001b[0m \u001b[43m        \u001b[49m\u001b[43mHTTPMethod\u001b[49m\u001b[38;5;241;43m.\u001b[39;49m\u001b[43mGET\u001b[49m\u001b[43m,\u001b[49m\u001b[43m \u001b[49m\u001b[38;5;124;43mf\u001b[39;49m\u001b[38;5;124;43m\"\u001b[39;49m\u001b[38;5;132;43;01m{\u001b[39;49;00m\u001b[38;5;28;43mself\u001b[39;49m\u001b[38;5;241;43m.\u001b[39;49m\u001b[43m__ENDPOINT\u001b[49m\u001b[38;5;132;43;01m}\u001b[39;49;00m\u001b[38;5;124;43m/\u001b[39;49m\u001b[38;5;132;43;01m{\u001b[39;49;00m\u001b[38;5;28;43mself\u001b[39;49m\u001b[38;5;241;43m.\u001b[39;49m\u001b[43m__id\u001b[49m\u001b[38;5;132;43;01m}\u001b[39;49;00m\u001b[38;5;124;43m/\u001b[39;49m\u001b[38;5;124;43m\"\u001b[39;49m\n\u001b[1;32m     70\u001b[0m \u001b[43m    \u001b[49m\u001b[43m)\u001b[49m\n",
      "File \u001b[0;32m~/Library/Caches/pypoetry/virtualenvs/ploutos-syHIIjPM-py3.12/lib/python3.12/site-packages/nordigen/nordigen.py:168\u001b[0m, in \u001b[0;36mNordigenClient.request\u001b[0;34m(self, method, endpoint, data, headers)\u001b[0m\n\u001b[1;32m    165\u001b[0m \u001b[38;5;28;01mif\u001b[39;00m response\u001b[38;5;241m.\u001b[39mok:\n\u001b[1;32m    166\u001b[0m     \u001b[38;5;28;01mreturn\u001b[39;00m response\u001b[38;5;241m.\u001b[39mjson()\n\u001b[0;32m--> 168\u001b[0m \u001b[38;5;28;01mraise\u001b[39;00m HTTPError(\n\u001b[1;32m    169\u001b[0m     {\u001b[38;5;124m\"\u001b[39m\u001b[38;5;124mresponse\u001b[39m\u001b[38;5;124m\"\u001b[39m: response\u001b[38;5;241m.\u001b[39mjson(), \u001b[38;5;124m\"\u001b[39m\u001b[38;5;124mstatus\u001b[39m\u001b[38;5;124m\"\u001b[39m: response\u001b[38;5;241m.\u001b[39mstatus_code}, response\u001b[38;5;241m=\u001b[39mresponse\n\u001b[1;32m    170\u001b[0m )\n",
      "\u001b[0;31mHTTPError\u001b[0m: {'response': {'summary': 'No Account matches the given query.', 'detail': 'No Account matches the given query.', 'status_code': 404}, 'status': 404}"
     ]
    }
   ],
   "source": [
    "account_api=BankApi(accountId=account_id)"
   ]
  },
  {
   "cell_type": "code",
   "execution_count": null,
   "metadata": {},
   "outputs": [],
   "source": []
  },
  {
   "cell_type": "markdown",
   "metadata": {},
   "source": [
    "### processus pour faire un id qui marche"
   ]
  },
  {
   "cell_type": "code",
   "execution_count": 49,
   "metadata": {},
   "outputs": [
    {
     "name": "stderr",
     "output_type": "stream",
     "text": [
      "\u001b[32m2025-10-16 23:05:54.053\u001b[0m | \u001b[1mINFO    \u001b[0m | \u001b[36mapi.bank_api\u001b[0m:\u001b[36mconnect_to_bank\u001b[0m:\u001b[36m35\u001b[0m - \u001b[1mRequisition ID:\u001b[0m\n"
     ]
    },
    {
     "data": {
      "text/plain": [
       "{'id': '645d79b0-c29d-47b0-9fdd-c83b9b15e807',\n",
       " 'created': '2025-10-16T20:39:51.302602Z',\n",
       " 'redirect': 'https://gocardless.com',\n",
       " 'status': 'LN',\n",
       " 'institution_id': 'LCL_CRLYFRPP',\n",
       " 'agreement': 'e8d4935c-9453-41f2-b644-702b3cd7a179',\n",
       " 'reference': '46341f98-572d-45d2-9120-e092a9af64b8',\n",
       " 'accounts': ['1bdb6174-5522-44d5-a67e-28d50123966f'],\n",
       " 'link': 'https://ob.gocardless.com/ob-psd2/start/0507a7ca-4f8e-47ac-b1b9-1495a1eb4750/LCL_CRLYFRPP',\n",
       " 'ssn': None,\n",
       " 'account_selection': False,\n",
       " 'redirect_immediate': False}"
      ]
     },
     "execution_count": 49,
     "metadata": {},
     "output_type": "execute_result"
    }
   ],
   "source": [
    "import importlib\n",
    "import pandas as pd\n",
    "importlib.reload(importlib.import_module('api.bank_api'))\n",
    "from api.bank_api import connect_to_bank\n",
    "\n",
    "connect_to_bank(\"LCL_CRLYFRPP\",requisition_id='645d79b0-c29d-47b0-9fdd-c83b9b15e807')"
   ]
  },
  {
   "cell_type": "code",
   "execution_count": 67,
   "metadata": {},
   "outputs": [
    {
     "data": {
      "text/plain": [
       "{'balances': [{'balanceAmount': {'amount': '-446.98', 'currency': 'EUR'},\n",
       "   'balanceType': 'expected',\n",
       "   'referenceDate': '2025-10-16'},\n",
       "  {'balanceAmount': {'amount': '1543.02', 'currency': 'EUR'},\n",
       "   'balanceType': 'closingBooked',\n",
       "   'referenceDate': '2025-10-15'}]}"
      ]
     },
     "execution_count": 67,
     "metadata": {},
     "output_type": "execute_result"
    }
   ],
   "source": [
    "client.account_api(id=\"1bdb6174-5522-44d5-a67e-28d50123966f\").get_balances()"
   ]
  },
  {
   "cell_type": "code",
   "execution_count": 84,
   "metadata": {},
   "outputs": [],
   "source": [
    "account_id,current_amount=df_accounts[df_accounts['name'].str.contains(\"LCL\")][['account_id','current_amount']].iloc[0]"
   ]
  },
  {
   "cell_type": "code",
   "execution_count": 85,
   "metadata": {},
   "outputs": [
    {
     "data": {
      "text/plain": [
       "'5e139075-c4b5-4f6f-afdb-e8a5efa9d377'"
      ]
     },
     "execution_count": 85,
     "metadata": {},
     "output_type": "execute_result"
    }
   ],
   "source": [
    "account_id"
   ]
  },
  {
   "cell_type": "code",
   "execution_count": 92,
   "metadata": {},
   "outputs": [
    {
     "name": "stdout",
     "output_type": "stream",
     "text": [
      "Successfully connected to LCL_CRLYFRPP\n"
     ]
    }
   ],
   "source": [
    "importlib.reload(importlib.import_module('api.bank_api'))\n",
    "importlib.reload(importlib.import_module('utils.secrets'))\n",
    "from api.bank_api import BankApi\n",
    "account_api=BankApi(accountId=account_id)"
   ]
  },
  {
   "cell_type": "code",
   "execution_count": 93,
   "metadata": {},
   "outputs": [],
   "source": [
    "from utils.secrets import save_secret\n",
    "from db.models import AccountsSecretsCreate\n",
    "from datetime import datetime\n",
    "account=AccountsSecretsCreate(  \n",
    "    accountId=account_id,\n",
    "    bankId=\"LCL_CRLYFRPP\",\n",
    "    updated_at=datetime.now().isoformat(),\n",
    "    secretId=\"1bdb6174-5522-44d5-a67e-28d50123966f\")\n",
    "save_secret(account)"
   ]
  },
  {
   "cell_type": "code",
   "execution_count": 10,
   "metadata": {},
   "outputs": [
    {
     "ename": "HTTPError",
     "evalue": "{'response': {'summary': 'Authentication failed', 'detail': 'Authentication credentials were not provided.', 'status_code': 401}, 'status': 401}",
     "output_type": "error",
     "traceback": [
      "\u001b[0;31m---------------------------------------------------------------------------\u001b[0m",
      "\u001b[0;31mHTTPError\u001b[0m                                 Traceback (most recent call last)",
      "Cell \u001b[0;32mIn[10], line 1\u001b[0m\n\u001b[0;32m----> 1\u001b[0m \u001b[43mapi\u001b[49m\u001b[38;5;241;43m.\u001b[39;49m\u001b[43mget_metadata\u001b[49m\u001b[43m(\u001b[49m\u001b[43m)\u001b[49m\n",
      "File \u001b[0;32m~/Library/Caches/pypoetry/virtualenvs/ploutos-syHIIjPM-py3.12/lib/python3.12/site-packages/nordigen/api/accounts.py:68\u001b[0m, in \u001b[0;36mAccountApi.get_metadata\u001b[0;34m(self)\u001b[0m\n\u001b[1;32m     59\u001b[0m \u001b[38;5;28;01mdef\u001b[39;00m \u001b[38;5;21mget_metadata\u001b[39m(\u001b[38;5;28mself\u001b[39m) \u001b[38;5;241m-\u001b[39m\u001b[38;5;241m>\u001b[39m \u001b[38;5;28mdict\u001b[39m:\n\u001b[1;32m     60\u001b[0m \u001b[38;5;250m    \u001b[39m\u001b[38;5;124;03m\"\"\"\u001b[39;00m\n\u001b[1;32m     61\u001b[0m \u001b[38;5;124;03m    Access account metadata.\u001b[39;00m\n\u001b[1;32m     62\u001b[0m \u001b[38;5;124;03m    Information about the account record, such as the processing status and IBAN.\u001b[39;00m\n\u001b[0;32m   (...)\u001b[0m\n\u001b[1;32m     66\u001b[0m \u001b[38;5;124;03m        AccountData: account metadata\u001b[39;00m\n\u001b[1;32m     67\u001b[0m \u001b[38;5;124;03m    \"\"\"\u001b[39;00m\n\u001b[0;32m---> 68\u001b[0m     \u001b[38;5;28;01mreturn\u001b[39;00m \u001b[38;5;28;43mself\u001b[39;49m\u001b[38;5;241;43m.\u001b[39;49m\u001b[43m__request\u001b[49m\u001b[43m(\u001b[49m\n\u001b[1;32m     69\u001b[0m \u001b[43m        \u001b[49m\u001b[43mHTTPMethod\u001b[49m\u001b[38;5;241;43m.\u001b[39;49m\u001b[43mGET\u001b[49m\u001b[43m,\u001b[49m\u001b[43m \u001b[49m\u001b[38;5;124;43mf\u001b[39;49m\u001b[38;5;124;43m\"\u001b[39;49m\u001b[38;5;132;43;01m{\u001b[39;49;00m\u001b[38;5;28;43mself\u001b[39;49m\u001b[38;5;241;43m.\u001b[39;49m\u001b[43m__ENDPOINT\u001b[49m\u001b[38;5;132;43;01m}\u001b[39;49;00m\u001b[38;5;124;43m/\u001b[39;49m\u001b[38;5;132;43;01m{\u001b[39;49;00m\u001b[38;5;28;43mself\u001b[39;49m\u001b[38;5;241;43m.\u001b[39;49m\u001b[43m__id\u001b[49m\u001b[38;5;132;43;01m}\u001b[39;49;00m\u001b[38;5;124;43m/\u001b[39;49m\u001b[38;5;124;43m\"\u001b[39;49m\n\u001b[1;32m     70\u001b[0m \u001b[43m    \u001b[49m\u001b[43m)\u001b[49m\n",
      "File \u001b[0;32m~/Library/Caches/pypoetry/virtualenvs/ploutos-syHIIjPM-py3.12/lib/python3.12/site-packages/nordigen/nordigen.py:168\u001b[0m, in \u001b[0;36mNordigenClient.request\u001b[0;34m(self, method, endpoint, data, headers)\u001b[0m\n\u001b[1;32m    165\u001b[0m \u001b[38;5;28;01mif\u001b[39;00m response\u001b[38;5;241m.\u001b[39mok:\n\u001b[1;32m    166\u001b[0m     \u001b[38;5;28;01mreturn\u001b[39;00m response\u001b[38;5;241m.\u001b[39mjson()\n\u001b[0;32m--> 168\u001b[0m \u001b[38;5;28;01mraise\u001b[39;00m HTTPError(\n\u001b[1;32m    169\u001b[0m     {\u001b[38;5;124m\"\u001b[39m\u001b[38;5;124mresponse\u001b[39m\u001b[38;5;124m\"\u001b[39m: response\u001b[38;5;241m.\u001b[39mjson(), \u001b[38;5;124m\"\u001b[39m\u001b[38;5;124mstatus\u001b[39m\u001b[38;5;124m\"\u001b[39m: response\u001b[38;5;241m.\u001b[39mstatus_code}, response\u001b[38;5;241m=\u001b[39mresponse\n\u001b[1;32m    170\u001b[0m )\n",
      "\u001b[0;31mHTTPError\u001b[0m: {'response': {'summary': 'Authentication failed', 'detail': 'Authentication credentials were not provided.', 'status_code': 401}, 'status': 401}"
     ]
    }
   ],
   "source": [
    "api.get_metadata()"
   ]
  },
  {
   "cell_type": "code",
   "execution_count": 8,
   "metadata": {},
   "outputs": [
    {
     "ename": "HTTPError",
     "evalue": "{'response': {'summary': 'Authentication failed', 'detail': 'Authentication credentials were not provided.', 'status_code': 401}, 'status': 401}",
     "output_type": "error",
     "traceback": [
      "\u001b[0;31m---------------------------------------------------------------------------\u001b[0m",
      "\u001b[0;31mHTTPError\u001b[0m                                 Traceback (most recent call last)",
      "Cell \u001b[0;32mIn[8], line 2\u001b[0m\n\u001b[1;32m      1\u001b[0m \u001b[38;5;28;01mfrom\u001b[39;00m \u001b[38;5;21;01muuid\u001b[39;00m \u001b[38;5;28;01mimport\u001b[39;00m UUID, uuid4\n\u001b[0;32m----> 2\u001b[0m init \u001b[38;5;241m=\u001b[39m \u001b[43mclient\u001b[49m\u001b[38;5;241;43m.\u001b[39;49m\u001b[43minitialize_session\u001b[49m\u001b[43m(\u001b[49m\n\u001b[1;32m      3\u001b[0m \u001b[43m    \u001b[49m\u001b[38;5;66;43;03m# institution id\u001b[39;49;00m\n\u001b[1;32m      4\u001b[0m \u001b[43m    \u001b[49m\u001b[43minstitution_id\u001b[49m\u001b[38;5;241;43m=\u001b[39;49m\u001b[38;5;124;43m'\u001b[39;49m\u001b[38;5;124;43mLCL_CRLYFRPP\u001b[39;49m\u001b[38;5;124;43m'\u001b[39;49m\u001b[43m,\u001b[49m\n\u001b[1;32m      5\u001b[0m \u001b[43m    \u001b[49m\u001b[38;5;66;43;03m# redirect url after successful authentication\u001b[39;49;00m\n\u001b[1;32m      6\u001b[0m \u001b[43m    \u001b[49m\u001b[43mredirect_uri\u001b[49m\u001b[38;5;241;43m=\u001b[39;49m\u001b[38;5;124;43m\"\u001b[39;49m\u001b[38;5;124;43mhttps://gocardless.com\u001b[39;49m\u001b[38;5;124;43m\"\u001b[39;49m\u001b[43m,\u001b[49m\n\u001b[1;32m      7\u001b[0m \u001b[43m    \u001b[49m\u001b[38;5;66;43;03m# additional layer of unique ID defined by you\u001b[39;49;00m\n\u001b[1;32m      8\u001b[0m \u001b[43m    \u001b[49m\u001b[43mreference_id\u001b[49m\u001b[38;5;241;43m=\u001b[39;49m\u001b[38;5;28;43mstr\u001b[39;49m\u001b[43m(\u001b[49m\u001b[43muuid4\u001b[49m\u001b[43m(\u001b[49m\u001b[43m)\u001b[49m\u001b[43m)\u001b[49m\n\u001b[1;32m      9\u001b[0m \u001b[43m)\u001b[49m\n\u001b[1;32m     10\u001b[0m link \u001b[38;5;241m=\u001b[39m init\u001b[38;5;241m.\u001b[39mlink \u001b[38;5;66;03m# bank authorization link\u001b[39;00m\n\u001b[1;32m     11\u001b[0m requisition_id \u001b[38;5;241m=\u001b[39m init\u001b[38;5;241m.\u001b[39mrequisition_id\n",
      "File \u001b[0;32m~/Library/Caches/pypoetry/virtualenvs/ploutos-syHIIjPM-py3.12/lib/python3.12/site-packages/nordigen/nordigen.py:191\u001b[0m, in \u001b[0;36mNordigenClient.initialize_session\u001b[0;34m(self, redirect_uri, institution_id, reference_id, max_historical_days, access_valid_for_days, account_selection)\u001b[0m\n\u001b[1;32m    181\u001b[0m \u001b[38;5;250m\u001b[39m\u001b[38;5;124;03m\"\"\"\u001b[39;00m\n\u001b[1;32m    182\u001b[0m \u001b[38;5;124;03mFactory method that creates authorization in a specific institution\u001b[39;00m\n\u001b[1;32m    183\u001b[0m \u001b[38;5;124;03mand are responsible for the following steps:\u001b[39;00m\n\u001b[0;32m   (...)\u001b[0m\n\u001b[1;32m    188\u001b[0m \u001b[38;5;124;03m    Dict[str]: link to initiate authorization with bank and requisition_id\u001b[39;00m\n\u001b[1;32m    189\u001b[0m \u001b[38;5;124;03m\"\"\"\u001b[39;00m\n\u001b[1;32m    190\u001b[0m \u001b[38;5;66;03m# Create agreement\u001b[39;00m\n\u001b[0;32m--> 191\u001b[0m agreement \u001b[38;5;241m=\u001b[39m \u001b[38;5;28;43mself\u001b[39;49m\u001b[38;5;241;43m.\u001b[39;49m\u001b[43magreement\u001b[49m\u001b[38;5;241;43m.\u001b[39;49m\u001b[43mcreate_agreement\u001b[49m\u001b[43m(\u001b[49m\n\u001b[1;32m    192\u001b[0m \u001b[43m    \u001b[49m\u001b[43mmax_historical_days\u001b[49m\u001b[38;5;241;43m=\u001b[39;49m\u001b[43mmax_historical_days\u001b[49m\u001b[43m,\u001b[49m\n\u001b[1;32m    193\u001b[0m \u001b[43m    \u001b[49m\u001b[43maccess_valid_for_days\u001b[49m\u001b[38;5;241;43m=\u001b[39;49m\u001b[43maccess_valid_for_days\u001b[49m\u001b[43m,\u001b[49m\n\u001b[1;32m    194\u001b[0m \u001b[43m    \u001b[49m\u001b[43minstitution_id\u001b[49m\u001b[38;5;241;43m=\u001b[39;49m\u001b[43minstitution_id\u001b[49m\u001b[43m,\u001b[49m\n\u001b[1;32m    195\u001b[0m \u001b[43m\u001b[49m\u001b[43m)\u001b[49m\n\u001b[1;32m    197\u001b[0m requisition_dict \u001b[38;5;241m=\u001b[39m {\n\u001b[1;32m    198\u001b[0m     \u001b[38;5;124m\"\u001b[39m\u001b[38;5;124mredirect_uri\u001b[39m\u001b[38;5;124m\"\u001b[39m: redirect_uri,\n\u001b[1;32m    199\u001b[0m     \u001b[38;5;124m\"\u001b[39m\u001b[38;5;124mreference_id\u001b[39m\u001b[38;5;124m\"\u001b[39m: reference_id,\n\u001b[0;32m   (...)\u001b[0m\n\u001b[1;32m    202\u001b[0m     \u001b[38;5;124m\"\u001b[39m\u001b[38;5;124maccount_selection\u001b[39m\u001b[38;5;124m\"\u001b[39m: account_selection,\n\u001b[1;32m    203\u001b[0m }\n\u001b[1;32m    205\u001b[0m \u001b[38;5;66;03m# Create requisition\u001b[39;00m\n",
      "File \u001b[0;32m~/Library/Caches/pypoetry/virtualenvs/ploutos-syHIIjPM-py3.12/lib/python3.12/site-packages/nordigen/api/agreements.py:59\u001b[0m, in \u001b[0;36mAgreementsApi.create_agreement\u001b[0;34m(self, institution_id, max_historical_days, access_valid_for_days, access_scope)\u001b[0m\n\u001b[1;32m     51\u001b[0m access_scope \u001b[38;5;241m=\u001b[39m access_scope \u001b[38;5;129;01mor\u001b[39;00m [\u001b[38;5;124m\"\u001b[39m\u001b[38;5;124mbalances\u001b[39m\u001b[38;5;124m\"\u001b[39m, \u001b[38;5;124m\"\u001b[39m\u001b[38;5;124mdetails\u001b[39m\u001b[38;5;124m\"\u001b[39m, \u001b[38;5;124m\"\u001b[39m\u001b[38;5;124mtransactions\u001b[39m\u001b[38;5;124m\"\u001b[39m]\n\u001b[1;32m     52\u001b[0m payload \u001b[38;5;241m=\u001b[39m {\n\u001b[1;32m     53\u001b[0m     \u001b[38;5;124m\"\u001b[39m\u001b[38;5;124mmax_historical_days\u001b[39m\u001b[38;5;124m\"\u001b[39m: max_historical_days,\n\u001b[1;32m     54\u001b[0m     \u001b[38;5;124m\"\u001b[39m\u001b[38;5;124maccess_valid_for_days\u001b[39m\u001b[38;5;124m\"\u001b[39m: access_valid_for_days,\n\u001b[1;32m     55\u001b[0m     \u001b[38;5;124m\"\u001b[39m\u001b[38;5;124maccess_scope\u001b[39m\u001b[38;5;124m\"\u001b[39m: access_scope,\n\u001b[1;32m     56\u001b[0m     \u001b[38;5;124m\"\u001b[39m\u001b[38;5;124minstitution_id\u001b[39m\u001b[38;5;124m\"\u001b[39m: institution_id,\n\u001b[1;32m     57\u001b[0m }\n\u001b[0;32m---> 59\u001b[0m \u001b[38;5;28;01mreturn\u001b[39;00m \u001b[38;5;28;43mself\u001b[39;49m\u001b[38;5;241;43m.\u001b[39;49m\u001b[43m__client\u001b[49m\u001b[38;5;241;43m.\u001b[39;49m\u001b[43mrequest\u001b[49m\u001b[43m(\u001b[49m\n\u001b[1;32m     60\u001b[0m \u001b[43m    \u001b[49m\u001b[43mHTTPMethod\u001b[49m\u001b[38;5;241;43m.\u001b[39;49m\u001b[43mPOST\u001b[49m\u001b[43m,\u001b[49m\u001b[43m \u001b[49m\u001b[38;5;124;43mf\u001b[39;49m\u001b[38;5;124;43m\"\u001b[39;49m\u001b[38;5;132;43;01m{\u001b[39;49;00m\u001b[38;5;28;43mself\u001b[39;49m\u001b[38;5;241;43m.\u001b[39;49m\u001b[43m__ENDPOINT\u001b[49m\u001b[38;5;132;43;01m}\u001b[39;49;00m\u001b[38;5;124;43m/\u001b[39;49m\u001b[38;5;124;43m\"\u001b[39;49m\u001b[43m,\u001b[49m\u001b[43m \u001b[49m\u001b[43mpayload\u001b[49m\n\u001b[1;32m     61\u001b[0m \u001b[43m\u001b[49m\u001b[43m)\u001b[49m\n",
      "File \u001b[0;32m~/Library/Caches/pypoetry/virtualenvs/ploutos-syHIIjPM-py3.12/lib/python3.12/site-packages/nordigen/nordigen.py:168\u001b[0m, in \u001b[0;36mNordigenClient.request\u001b[0;34m(self, method, endpoint, data, headers)\u001b[0m\n\u001b[1;32m    165\u001b[0m \u001b[38;5;28;01mif\u001b[39;00m response\u001b[38;5;241m.\u001b[39mok:\n\u001b[1;32m    166\u001b[0m     \u001b[38;5;28;01mreturn\u001b[39;00m response\u001b[38;5;241m.\u001b[39mjson()\n\u001b[0;32m--> 168\u001b[0m \u001b[38;5;28;01mraise\u001b[39;00m HTTPError(\n\u001b[1;32m    169\u001b[0m     {\u001b[38;5;124m\"\u001b[39m\u001b[38;5;124mresponse\u001b[39m\u001b[38;5;124m\"\u001b[39m: response\u001b[38;5;241m.\u001b[39mjson(), \u001b[38;5;124m\"\u001b[39m\u001b[38;5;124mstatus\u001b[39m\u001b[38;5;124m\"\u001b[39m: response\u001b[38;5;241m.\u001b[39mstatus_code}, response\u001b[38;5;241m=\u001b[39mresponse\n\u001b[1;32m    170\u001b[0m )\n",
      "\u001b[0;31mHTTPError\u001b[0m: {'response': {'summary': 'Authentication failed', 'detail': 'Authentication credentials were not provided.', 'status_code': 401}, 'status': 401}"
     ]
    }
   ],
   "source": [
    "from uuid import UUID, uuid4\n",
    "init = client.initialize_session(\n",
    "    # institution id\n",
    "    institution_id='LCL_CRLYFRPP',\n",
    "    # redirect url after successful authentication\n",
    "    redirect_uri=\"https://gocardless.com\",\n",
    "    # additional layer of unique ID defined by you\n",
    "    reference_id=str(uuid4())\n",
    ")\n",
    "link = init.link # bank authorization link\n",
    "requisition_id = init.requisition_id\n",
    "link\n",
    "#bien valider le link"
   ]
  },
  {
   "cell_type": "code",
   "execution_count": 9,
   "metadata": {},
   "outputs": [
    {
     "name": "stdout",
     "output_type": "stream",
     "text": [
      "31a37627ea3a368dbc5319aaefb1732757bbe7a7e40f0d8756f2e2a51c8b91fe\n"
     ]
    }
   ],
   "source": [
    "import secrets\n",
    "key = secrets.token_bytes(32)  # 32 bytes = 256 bits pour AES-256\n",
    "print(key.hex())"
   ]
  },
  {
   "cell_type": "code",
   "execution_count": 15,
   "metadata": {},
   "outputs": [
    {
     "ename": "HTTPError",
     "evalue": "{'response': {'summary': 'No Requisition matches the given query.', 'detail': 'No Requisition matches the given query.', 'status_code': 404}, 'status': 404}",
     "output_type": "error",
     "traceback": [
      "\u001b[0;31m---------------------------------------------------------------------------\u001b[0m",
      "\u001b[0;31mHTTPError\u001b[0m                                 Traceback (most recent call last)",
      "Cell \u001b[0;32mIn[15], line 1\u001b[0m\n\u001b[0;32m----> 1\u001b[0m \u001b[43mclient\u001b[49m\u001b[38;5;241;43m.\u001b[39;49m\u001b[43mrequisition\u001b[49m\u001b[38;5;241;43m.\u001b[39;49m\u001b[43mget_requisition_by_id\u001b[49m\u001b[43m(\u001b[49m\n\u001b[1;32m      2\u001b[0m \u001b[43m    \u001b[49m\u001b[43mrequisition_id\u001b[49m\u001b[38;5;241;43m=\u001b[39;49m\u001b[38;5;124;43m\"\u001b[39;49m\u001b[38;5;124;43m25f6b579-26ab-4be6-9786-f4a3182391f4\u001b[39;49m\u001b[38;5;124;43m\"\u001b[39;49m\n\u001b[1;32m      3\u001b[0m \u001b[43m)\u001b[49m\n",
      "File \u001b[0;32m~/Library/Caches/pypoetry/virtualenvs/ploutos-syHIIjPM-py3.12/lib/python3.12/site-packages/nordigen/api/requisitions.py:97\u001b[0m, in \u001b[0;36mRequisitionsApi.get_requisition_by_id\u001b[0;34m(self, requisition_id)\u001b[0m\n\u001b[1;32m     88\u001b[0m \u001b[38;5;28;01mdef\u001b[39;00m \u001b[38;5;21mget_requisition_by_id\u001b[39m(\u001b[38;5;28mself\u001b[39m, requisition_id: \u001b[38;5;28mstr\u001b[39m) \u001b[38;5;241m-\u001b[39m\u001b[38;5;241m>\u001b[39m Requisition:\n\u001b[1;32m     89\u001b[0m \u001b[38;5;250m    \u001b[39m\u001b[38;5;124;03m\"\"\"\u001b[39;00m\n\u001b[1;32m     90\u001b[0m \u001b[38;5;124;03m    Get list of requisitions.\u001b[39;00m\n\u001b[1;32m     91\u001b[0m \n\u001b[0;32m   (...)\u001b[0m\n\u001b[1;32m     95\u001b[0m \u001b[38;5;124;03m        Requisition: account details\u001b[39;00m\n\u001b[1;32m     96\u001b[0m \u001b[38;5;124;03m    \"\"\"\u001b[39;00m\n\u001b[0;32m---> 97\u001b[0m     \u001b[38;5;28;01mreturn\u001b[39;00m \u001b[38;5;28;43mself\u001b[39;49m\u001b[38;5;241;43m.\u001b[39;49m\u001b[43m__client\u001b[49m\u001b[38;5;241;43m.\u001b[39;49m\u001b[43mrequest\u001b[49m\u001b[43m(\u001b[49m\n\u001b[1;32m     98\u001b[0m \u001b[43m        \u001b[49m\u001b[43mHTTPMethod\u001b[49m\u001b[38;5;241;43m.\u001b[39;49m\u001b[43mGET\u001b[49m\u001b[43m,\u001b[49m\u001b[43m \u001b[49m\u001b[38;5;124;43mf\u001b[39;49m\u001b[38;5;124;43m\"\u001b[39;49m\u001b[38;5;132;43;01m{\u001b[39;49;00m\u001b[38;5;28;43mself\u001b[39;49m\u001b[38;5;241;43m.\u001b[39;49m\u001b[43mENDPOINT\u001b[49m\u001b[38;5;132;43;01m}\u001b[39;49;00m\u001b[38;5;124;43m/\u001b[39;49m\u001b[38;5;132;43;01m{\u001b[39;49;00m\u001b[43mrequisition_id\u001b[49m\u001b[38;5;132;43;01m}\u001b[39;49;00m\u001b[38;5;124;43m/\u001b[39;49m\u001b[38;5;124;43m\"\u001b[39;49m\n\u001b[1;32m     99\u001b[0m \u001b[43m    \u001b[49m\u001b[43m)\u001b[49m\n",
      "File \u001b[0;32m~/Library/Caches/pypoetry/virtualenvs/ploutos-syHIIjPM-py3.12/lib/python3.12/site-packages/nordigen/nordigen.py:168\u001b[0m, in \u001b[0;36mNordigenClient.request\u001b[0;34m(self, method, endpoint, data, headers)\u001b[0m\n\u001b[1;32m    165\u001b[0m \u001b[38;5;28;01mif\u001b[39;00m response\u001b[38;5;241m.\u001b[39mok:\n\u001b[1;32m    166\u001b[0m     \u001b[38;5;28;01mreturn\u001b[39;00m response\u001b[38;5;241m.\u001b[39mjson()\n\u001b[0;32m--> 168\u001b[0m \u001b[38;5;28;01mraise\u001b[39;00m HTTPError(\n\u001b[1;32m    169\u001b[0m     {\u001b[38;5;124m\"\u001b[39m\u001b[38;5;124mresponse\u001b[39m\u001b[38;5;124m\"\u001b[39m: response\u001b[38;5;241m.\u001b[39mjson(), \u001b[38;5;124m\"\u001b[39m\u001b[38;5;124mstatus\u001b[39m\u001b[38;5;124m\"\u001b[39m: response\u001b[38;5;241m.\u001b[39mstatus_code}, response\u001b[38;5;241m=\u001b[39mresponse\n\u001b[1;32m    170\u001b[0m )\n",
      "\u001b[0;31mHTTPError\u001b[0m: {'response': {'summary': 'No Requisition matches the given query.', 'detail': 'No Requisition matches the given query.', 'status_code': 404}, 'status': 404}"
     ]
    }
   ],
   "source": [
    "client.requisition.get_requisition_by_id(\n",
    "    requisition_id=\"25f6b579-26ab-4be6-9786-f4a3182391f4\"\n",
    ")"
   ]
  },
  {
   "cell_type": "code",
   "execution_count": null,
   "metadata": {},
   "outputs": [
    {
     "data": {
      "text/plain": [
       "['a52da9b8-2983-4428-bfe9-e1e2c85dbcb7',\n",
       " 'f47d8c6f-6bca-41ae-9469-b4f88ecb2e61']"
      ]
     },
     "execution_count": 47,
     "metadata": {},
     "output_type": "execute_result"
    }
   ],
   "source": [
    "accounts[\"accounts\"] # les id des différents comptes"
   ]
  },
  {
   "cell_type": "code",
   "execution_count": null,
   "metadata": {},
   "outputs": [],
   "source": []
  }
 ],
 "metadata": {
  "kernelspec": {
   "display_name": "ploutos-py3.12 (3.12.0)",
   "language": "python",
   "name": "python3"
  },
  "language_info": {
   "codemirror_mode": {
    "name": "ipython",
    "version": 3
   },
   "file_extension": ".py",
   "mimetype": "text/x-python",
   "name": "python",
   "nbconvert_exporter": "python",
   "pygments_lexer": "ipython3",
   "version": "3.12.0"
  }
 },
 "nbformat": 4,
 "nbformat_minor": 2
}
